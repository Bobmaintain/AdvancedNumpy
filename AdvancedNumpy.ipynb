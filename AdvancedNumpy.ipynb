{
 "cells": [
  {
   "cell_type": "markdown",
   "metadata": {},
   "source": [
    "# ADVANCED NUMPY"
   ]
  },
  {
   "cell_type": "code",
   "execution_count": 193,
   "metadata": {},
   "outputs": [],
   "source": [
    "import numpy as np\n",
    "import pandas as pd\n",
    "import numba as nb"
   ]
  },
  {
   "cell_type": "code",
   "execution_count": null,
   "metadata": {},
   "outputs": [],
   "source": [
    "# Advanced NumPy\n",
    "\n",
    "# Let's go deeper into the NumPy library for array computing.\n",
    "    # This will include more internal detail about the ndarray type \n",
    "    # and more advanced array manipulations and algorithms."
   ]
  },
  {
   "cell_type": "code",
   "execution_count": null,
   "metadata": {},
   "outputs": [],
   "source": [
    "# Ndarray Object Internals\n",
    "\n",
    "# The NumPy ndarray provides a means to interpret a block of homogeneous data (either contiguous or strided)\n",
    "    # as a multidimensional array object.\n",
    "    # The data type, or dtype, determines how the data is interpreted as being floating point, integer,\n",
    "    # boolean, or any of the other types.\n",
    "\n",
    "# Part of what makes ndarray flexible is that every array object is a strided view on a block of data.\n",
    "    # You might wonder, for example, how the array view arr[::2, ::-1] does not copy any data.\n",
    "    # The reason is that the ndarray is more than just a chunk of memory and a dtype;\n",
    "    # it also has “striding” information that enables the array to move through memory with varying step sizes.\n",
    "    # More precisely, the ndarray internally consists of the following:\n",
    "\n",
    "#        • A pointer to data—that is, a block of data in RAM or in a memory-mapped file\n",
    "        \n",
    "#        • The data type or dtype, describing fixed-size value cells in the array\n",
    "        \n",
    "#        • A tuple indicating the array’s shape\n",
    "        \n",
    "#        • A tuple of strides, integers indicating the number of bytes to “step” in order to\n",
    "#            advance one element along a dimension"
   ]
  },
  {
   "cell_type": "code",
   "execution_count": 3,
   "metadata": {},
   "outputs": [
    {
     "data": {
      "text/plain": [
       "(10, 5)"
      ]
     },
     "execution_count": 3,
     "metadata": {},
     "output_type": "execute_result"
    }
   ],
   "source": [
    "# For example, a 10 × 5 array would have shape (10, 5):\n",
    "\n",
    "np.ones((10, 5)).shape"
   ]
  },
  {
   "cell_type": "code",
   "execution_count": 4,
   "metadata": {},
   "outputs": [
    {
     "data": {
      "text/plain": [
       "(160, 40, 8)"
      ]
     },
     "execution_count": 4,
     "metadata": {},
     "output_type": "execute_result"
    }
   ],
   "source": [
    "# A typical (C order) 3 × 4 × 5 array of float64 (8-byte) values has strides (160, 40,8) \n",
    "   # (knowing about the strides can be useful because, in general, the larger the strides on a particular axis,\n",
    "     # the more costly it is to perform computation along that axis):\n",
    "\n",
    "np.ones((3, 4, 5), dtype=np.float64).strides"
   ]
  },
  {
   "cell_type": "code",
   "execution_count": null,
   "metadata": {},
   "outputs": [],
   "source": [
    "# While it is rare that a typical NumPy user would be interested in the array strides,\n",
    "    # they are the critical ingredient in constructing “zero-copy” array views. Strides can even be negative,\n",
    "    # which enables an array to move “backward” through memory\n",
    "    # (this would be the case, for example, in a slice like obj[::-1] or obj[:, ::-1])."
   ]
  },
  {
   "cell_type": "code",
   "execution_count": 6,
   "metadata": {},
   "outputs": [
    {
     "data": {
      "text/plain": [
       "array([1, 1, 1, 1, 1, 1, 1, 1, 1, 1], dtype=uint16)"
      ]
     },
     "execution_count": 6,
     "metadata": {},
     "output_type": "execute_result"
    }
   ],
   "source": [
    "# NumPy dtype Hierarchy\n",
    "\n",
    "# You may occasionally have code that needs to check whether an array contains integers,\n",
    "    # floating-point numbers, strings, or Python objects. \n",
    "    # Because there are multiple types of floating-point numbers (float16 through float128),\n",
    "    # checking that the dtype is among a list of types would be very verbose. \n",
    "    # Fortunately, the dtypes have superclasses such as np.integer and np.floating,\n",
    "    # which can be used in conjunction with the np.issubdtype function:\n",
    "\n",
    "    \n",
    "ints = np.ones(10, dtype=np.uint16)\n",
    "\n",
    "ints"
   ]
  },
  {
   "cell_type": "code",
   "execution_count": 7,
   "metadata": {},
   "outputs": [
    {
     "data": {
      "text/plain": [
       "array([1., 1., 1., 1., 1., 1., 1., 1., 1., 1.], dtype=float32)"
      ]
     },
     "execution_count": 7,
     "metadata": {},
     "output_type": "execute_result"
    }
   ],
   "source": [
    "floats = np.ones(10, dtype=np.float32)\n",
    "\n",
    "floats"
   ]
  },
  {
   "cell_type": "code",
   "execution_count": 8,
   "metadata": {},
   "outputs": [
    {
     "data": {
      "text/plain": [
       "True"
      ]
     },
     "execution_count": 8,
     "metadata": {},
     "output_type": "execute_result"
    }
   ],
   "source": [
    "np.issubdtype(ints.dtype, np.integer)"
   ]
  },
  {
   "cell_type": "code",
   "execution_count": 9,
   "metadata": {},
   "outputs": [
    {
     "data": {
      "text/plain": [
       "True"
      ]
     },
     "execution_count": 9,
     "metadata": {},
     "output_type": "execute_result"
    }
   ],
   "source": [
    "np.issubdtype(floats.dtype, np.floating)"
   ]
  },
  {
   "cell_type": "code",
   "execution_count": 10,
   "metadata": {},
   "outputs": [
    {
     "data": {
      "text/plain": [
       "[numpy.float64,\n",
       " numpy.floating,\n",
       " numpy.inexact,\n",
       " numpy.number,\n",
       " numpy.generic,\n",
       " float,\n",
       " object]"
      ]
     },
     "execution_count": 10,
     "metadata": {},
     "output_type": "execute_result"
    }
   ],
   "source": [
    "# You can see all of the parent classes of a specific dtype by calling the type’s mro method:\n",
    "    \n",
    "np.float64.mro()"
   ]
  },
  {
   "cell_type": "code",
   "execution_count": 11,
   "metadata": {},
   "outputs": [
    {
     "data": {
      "text/plain": [
       "True"
      ]
     },
     "execution_count": 11,
     "metadata": {},
     "output_type": "execute_result"
    }
   ],
   "source": [
    "# Therefore, we also have:\n",
    "\n",
    "np.issubdtype(ints.dtype, np.number)"
   ]
  },
  {
   "cell_type": "code",
   "execution_count": null,
   "metadata": {},
   "outputs": [],
   "source": [
    "# Most NumPy users will never have to know about this, but it occasionally comes in handy."
   ]
  },
  {
   "cell_type": "code",
   "execution_count": null,
   "metadata": {},
   "outputs": [],
   "source": [
    "# Advanced Array Manipulation\n",
    "\n",
    "# There are many ways to work with arrays beyond fancy indexing, slicing, and boolean subsetting.\n",
    "    # While much of the heavy lifting for data analysis applications is handled by higher-level functions\n",
    "    # in pandas, you may at some point need to write a data algorithm that is not found\n",
    "    # in one of the existing libraries."
   ]
  },
  {
   "cell_type": "code",
   "execution_count": 12,
   "metadata": {},
   "outputs": [
    {
     "data": {
      "text/plain": [
       "array([0, 1, 2, 3, 4, 5, 6, 7])"
      ]
     },
     "execution_count": 12,
     "metadata": {},
     "output_type": "execute_result"
    }
   ],
   "source": [
    "# Reshaping Arrays\n",
    "\n",
    "# In many cases, you can convert an array from one shape to another without copying any data.\n",
    "    # To do this, pass a tuple indicating the new shape to the reshape array instance method.\n",
    "    # For example, suppose we had a one-dimensional array of values that we wished to rearrange into a matrix:\n",
    "\n",
    "\n",
    "arr = np.arange(8)\n",
    "\n",
    "arr"
   ]
  },
  {
   "cell_type": "code",
   "execution_count": 17,
   "metadata": {},
   "outputs": [
    {
     "data": {
      "text/plain": [
       "array([[0, 1],\n",
       "       [2, 3],\n",
       "       [4, 5],\n",
       "       [6, 7]])"
      ]
     },
     "execution_count": 17,
     "metadata": {},
     "output_type": "execute_result"
    }
   ],
   "source": [
    "arr.reshape((4,2))"
   ]
  },
  {
   "cell_type": "code",
   "execution_count": 18,
   "metadata": {},
   "outputs": [
    {
     "data": {
      "text/plain": [
       "array([[0, 1, 2, 3],\n",
       "       [4, 5, 6, 7]])"
      ]
     },
     "execution_count": 18,
     "metadata": {},
     "output_type": "execute_result"
    }
   ],
   "source": [
    "# A multidimensional array can also be reshaped:\n",
    "\n",
    "\n",
    "arr.reshape((4, 2)).reshape((2, 4))"
   ]
  },
  {
   "cell_type": "code",
   "execution_count": 19,
   "metadata": {},
   "outputs": [
    {
     "data": {
      "text/plain": [
       "array([ 0,  1,  2,  3,  4,  5,  6,  7,  8,  9, 10, 11, 12, 13, 14])"
      ]
     },
     "execution_count": 19,
     "metadata": {},
     "output_type": "execute_result"
    }
   ],
   "source": [
    "# One of the passed shape dimensions can be –1, in which case the value used for tha dimension\n",
    "    # will be inferred from the data:\n",
    "\n",
    "    \n",
    "arr = np.arange(15)\n",
    "\n",
    "arr"
   ]
  },
  {
   "cell_type": "code",
   "execution_count": 20,
   "metadata": {},
   "outputs": [
    {
     "data": {
      "text/plain": [
       "array([[ 0,  1,  2],\n",
       "       [ 3,  4,  5],\n",
       "       [ 6,  7,  8],\n",
       "       [ 9, 10, 11],\n",
       "       [12, 13, 14]])"
      ]
     },
     "execution_count": 20,
     "metadata": {},
     "output_type": "execute_result"
    }
   ],
   "source": [
    "arr.reshape((5, -1))"
   ]
  },
  {
   "cell_type": "code",
   "execution_count": 22,
   "metadata": {},
   "outputs": [
    {
     "data": {
      "text/plain": [
       "array([[1., 1., 1., 1., 1.],\n",
       "       [1., 1., 1., 1., 1.],\n",
       "       [1., 1., 1., 1., 1.]])"
      ]
     },
     "execution_count": 22,
     "metadata": {},
     "output_type": "execute_result"
    }
   ],
   "source": [
    "# Since an array’s shape attribute is a tuple, it can be passed to reshape, too:\n",
    "\n",
    "\n",
    "other_arr = np.ones((3, 5))\n",
    "\n",
    "other_arr"
   ]
  },
  {
   "cell_type": "code",
   "execution_count": 23,
   "metadata": {},
   "outputs": [
    {
     "data": {
      "text/plain": [
       "(3, 5)"
      ]
     },
     "execution_count": 23,
     "metadata": {},
     "output_type": "execute_result"
    }
   ],
   "source": [
    "other_arr.shape"
   ]
  },
  {
   "cell_type": "code",
   "execution_count": 24,
   "metadata": {},
   "outputs": [
    {
     "data": {
      "text/plain": [
       "array([[ 0,  1,  2,  3,  4],\n",
       "       [ 5,  6,  7,  8,  9],\n",
       "       [10, 11, 12, 13, 14]])"
      ]
     },
     "execution_count": 24,
     "metadata": {},
     "output_type": "execute_result"
    }
   ],
   "source": [
    "arr.reshape(other_arr.shape)"
   ]
  },
  {
   "cell_type": "code",
   "execution_count": 25,
   "metadata": {},
   "outputs": [
    {
     "data": {
      "text/plain": [
       "array([[ 0,  1,  2],\n",
       "       [ 3,  4,  5],\n",
       "       [ 6,  7,  8],\n",
       "       [ 9, 10, 11],\n",
       "       [12, 13, 14]])"
      ]
     },
     "execution_count": 25,
     "metadata": {},
     "output_type": "execute_result"
    }
   ],
   "source": [
    "# The opposite operation of reshape from one-dimensional to a higher dimension \n",
    "    # is typically known as flattening or raveling:\n",
    "\n",
    "\n",
    "arr = np.arange(15).reshape((5, 3))\n",
    "\n",
    "arr"
   ]
  },
  {
   "cell_type": "code",
   "execution_count": 26,
   "metadata": {},
   "outputs": [
    {
     "data": {
      "text/plain": [
       "array([ 0,  1,  2,  3,  4,  5,  6,  7,  8,  9, 10, 11, 12, 13, 14])"
      ]
     },
     "execution_count": 26,
     "metadata": {},
     "output_type": "execute_result"
    }
   ],
   "source": [
    "arr.ravel()"
   ]
  },
  {
   "cell_type": "code",
   "execution_count": 27,
   "metadata": {},
   "outputs": [
    {
     "data": {
      "text/plain": [
       "array([ 0,  1,  2,  3,  4,  5,  6,  7,  8,  9, 10, 11, 12, 13, 14])"
      ]
     },
     "execution_count": 27,
     "metadata": {},
     "output_type": "execute_result"
    }
   ],
   "source": [
    "# ravel does not produce a copy of the underlying values if the values in the result \n",
    "    # were contiguous in the original array. \n",
    "    # The flatten method behaves like ravel except it always returns a copy of the data:\n",
    "\n",
    "arr.flatten()"
   ]
  },
  {
   "cell_type": "code",
   "execution_count": null,
   "metadata": {},
   "outputs": [],
   "source": [
    "# The data can be reshaped or raveled in different orders. This is a slightly nuanced topic for new NumPy users\n",
    "    # and is therefore the next subtopic."
   ]
  },
  {
   "cell_type": "code",
   "execution_count": 28,
   "metadata": {},
   "outputs": [
    {
     "data": {
      "text/plain": [
       "array([[ 0,  1,  2,  3],\n",
       "       [ 4,  5,  6,  7],\n",
       "       [ 8,  9, 10, 11]])"
      ]
     },
     "execution_count": 28,
     "metadata": {},
     "output_type": "execute_result"
    }
   ],
   "source": [
    "# C Versus Fortran Order\n",
    "\n",
    "# NumPy gives you control and flexibility over the layout of your data in memory.\n",
    "    # By default, NumPy arrays are created in row major order. \n",
    "    # Spatially this means that if you have a two-dimensional array of data, \n",
    "    # the items in each row of the array are stored in adjacent memory locations.\n",
    "    # The alternative to row major ordering is column major order, \n",
    "    # which means that values within each column of data are stored in adjacent memory locations.\n",
    "\n",
    "# For historical reasons, row and column major order are also know as C and Fortran order, respectively.\n",
    "    # In the FORTRAN 77 language, matrices are all column major.\n",
    "\n",
    "# Functions like reshape and ravel accept an order argument indicating the order to use the data in the array.\n",
    "    # This is usually set to 'C' or 'F' in most cases \n",
    "    # (there are also less commonly used options 'A' and 'K'; see the NumPy documentation):\n",
    "\n",
    "    \n",
    "arr = np.arange(12).reshape((3, 4))\n",
    "\n",
    "arr"
   ]
  },
  {
   "cell_type": "code",
   "execution_count": 29,
   "metadata": {},
   "outputs": [
    {
     "data": {
      "text/plain": [
       "array([ 0,  1,  2,  3,  4,  5,  6,  7,  8,  9, 10, 11])"
      ]
     },
     "execution_count": 29,
     "metadata": {},
     "output_type": "execute_result"
    }
   ],
   "source": [
    "arr.ravel()"
   ]
  },
  {
   "cell_type": "code",
   "execution_count": 30,
   "metadata": {},
   "outputs": [
    {
     "data": {
      "text/plain": [
       "array([ 0,  1,  2,  3,  4,  5,  6,  7,  8,  9, 10, 11])"
      ]
     },
     "execution_count": 30,
     "metadata": {},
     "output_type": "execute_result"
    }
   ],
   "source": [
    "arr.ravel('C')"
   ]
  },
  {
   "cell_type": "code",
   "execution_count": 31,
   "metadata": {},
   "outputs": [
    {
     "data": {
      "text/plain": [
       "array([ 0,  4,  8,  1,  5,  9,  2,  6, 10,  3,  7, 11])"
      ]
     },
     "execution_count": 31,
     "metadata": {},
     "output_type": "execute_result"
    }
   ],
   "source": [
    "arr.ravel('F')"
   ]
  },
  {
   "cell_type": "code",
   "execution_count": 32,
   "metadata": {},
   "outputs": [
    {
     "data": {
      "text/plain": [
       "array([ 0,  1,  2,  3,  4,  5,  6,  7,  8,  9, 10, 11])"
      ]
     },
     "execution_count": 32,
     "metadata": {},
     "output_type": "execute_result"
    }
   ],
   "source": [
    "arr.ravel('A')"
   ]
  },
  {
   "cell_type": "code",
   "execution_count": 33,
   "metadata": {},
   "outputs": [
    {
     "data": {
      "text/plain": [
       "array([ 0,  1,  2,  3,  4,  5,  6,  7,  8,  9, 10, 11])"
      ]
     },
     "execution_count": 33,
     "metadata": {},
     "output_type": "execute_result"
    }
   ],
   "source": [
    "arr.ravel('K')"
   ]
  },
  {
   "cell_type": "code",
   "execution_count": null,
   "metadata": {},
   "outputs": [],
   "source": [
    "# Reshaping arrays with more than two dimensions can be a bit mind-bending. \n",
    "    # The key difference between C and Fortran order is the way in which the dimensions are walked:\n",
    "\n",
    "#        C/row major order\n",
    "#            Traverse higher dimensions first (e.g., axis 1 before advancing on axis 0).\n",
    "\n",
    "#        Fortran/column major order\n",
    "#            Traverse higher dimensions last (e.g., axis 0 before advancing on axis 1)."
   ]
  },
  {
   "cell_type": "code",
   "execution_count": 34,
   "metadata": {},
   "outputs": [
    {
     "data": {
      "text/plain": [
       "array([[1, 2, 3],\n",
       "       [4, 5, 6]])"
      ]
     },
     "execution_count": 34,
     "metadata": {},
     "output_type": "execute_result"
    }
   ],
   "source": [
    "# Concatenating and Splitting Arrays\n",
    "\n",
    "# numpy.concatenate takes a sequence (tuple, list, etc.) of arrays and joins them together\n",
    "    # in order along the input axis:\n",
    "\n",
    "    \n",
    "arr1 = np.array([[1, 2, 3], [4, 5, 6]])\n",
    "\n",
    "arr1"
   ]
  },
  {
   "cell_type": "code",
   "execution_count": 36,
   "metadata": {},
   "outputs": [
    {
     "data": {
      "text/plain": [
       "array([[ 7,  8,  9],\n",
       "       [10, 11, 12]])"
      ]
     },
     "execution_count": 36,
     "metadata": {},
     "output_type": "execute_result"
    }
   ],
   "source": [
    "arr2 = np.array([[7, 8, 9], [10, 11, 12]])\n",
    "\n",
    "arr2"
   ]
  },
  {
   "cell_type": "code",
   "execution_count": 37,
   "metadata": {},
   "outputs": [
    {
     "data": {
      "text/plain": [
       "array([[ 1,  2,  3],\n",
       "       [ 4,  5,  6],\n",
       "       [ 7,  8,  9],\n",
       "       [10, 11, 12]])"
      ]
     },
     "execution_count": 37,
     "metadata": {},
     "output_type": "execute_result"
    }
   ],
   "source": [
    "np.concatenate([arr1, arr2], axis=0)"
   ]
  },
  {
   "cell_type": "code",
   "execution_count": 40,
   "metadata": {},
   "outputs": [
    {
     "data": {
      "text/plain": [
       "array([[ 1,  2,  3,  7,  8,  9],\n",
       "       [ 4,  5,  6, 10, 11, 12]])"
      ]
     },
     "execution_count": 40,
     "metadata": {},
     "output_type": "execute_result"
    }
   ],
   "source": [
    "np.concatenate([arr1, arr2], axis=1)"
   ]
  },
  {
   "cell_type": "code",
   "execution_count": 41,
   "metadata": {},
   "outputs": [
    {
     "data": {
      "text/plain": [
       "array([[ 1,  2,  3],\n",
       "       [ 4,  5,  6],\n",
       "       [ 7,  8,  9],\n",
       "       [10, 11, 12]])"
      ]
     },
     "execution_count": 41,
     "metadata": {},
     "output_type": "execute_result"
    }
   ],
   "source": [
    "# There are some convenience functions, like vstack and hstack, for common kinds of concatenation.\n",
    "    # The preceding operations could have been expressed as:\n",
    "\n",
    "np.vstack((arr1, arr2))"
   ]
  },
  {
   "cell_type": "code",
   "execution_count": 42,
   "metadata": {},
   "outputs": [
    {
     "data": {
      "text/plain": [
       "array([[ 1,  2,  3,  7,  8,  9],\n",
       "       [ 4,  5,  6, 10, 11, 12]])"
      ]
     },
     "execution_count": 42,
     "metadata": {},
     "output_type": "execute_result"
    }
   ],
   "source": [
    "np.hstack((arr1,arr2))"
   ]
  },
  {
   "cell_type": "code",
   "execution_count": 43,
   "metadata": {},
   "outputs": [
    {
     "data": {
      "text/plain": [
       "array([[ 1.33222118, -1.81806039],\n",
       "       [-0.15346484, -0.13432537],\n",
       "       [-1.20499111,  1.7143637 ],\n",
       "       [ 0.29597033, -0.46980145],\n",
       "       [ 0.28043885,  0.71384464]])"
      ]
     },
     "execution_count": 43,
     "metadata": {},
     "output_type": "execute_result"
    }
   ],
   "source": [
    "# split, on the other hand, slices apart an array into multiple arrays along an axis:\n",
    "\n",
    "\n",
    "arr = np.random.randn(5, 2)\n",
    "\n",
    "arr"
   ]
  },
  {
   "cell_type": "code",
   "execution_count": 44,
   "metadata": {},
   "outputs": [
    {
     "data": {
      "text/plain": [
       "array([[ 1.33222118, -1.81806039]])"
      ]
     },
     "execution_count": 44,
     "metadata": {},
     "output_type": "execute_result"
    }
   ],
   "source": [
    "first, second, third = np.split(arr, [1, 3])\n",
    "\n",
    "first"
   ]
  },
  {
   "cell_type": "code",
   "execution_count": 45,
   "metadata": {},
   "outputs": [
    {
     "data": {
      "text/plain": [
       "array([[-0.15346484, -0.13432537],\n",
       "       [-1.20499111,  1.7143637 ]])"
      ]
     },
     "execution_count": 45,
     "metadata": {},
     "output_type": "execute_result"
    }
   ],
   "source": [
    "second"
   ]
  },
  {
   "cell_type": "code",
   "execution_count": 46,
   "metadata": {},
   "outputs": [
    {
     "data": {
      "text/plain": [
       "array([[ 0.29597033, -0.46980145],\n",
       "       [ 0.28043885,  0.71384464]])"
      ]
     },
     "execution_count": 46,
     "metadata": {},
     "output_type": "execute_result"
    }
   ],
   "source": [
    "third"
   ]
  },
  {
   "cell_type": "code",
   "execution_count": null,
   "metadata": {},
   "outputs": [],
   "source": [
    "# The value [1, 3] passed to np.split indicate the indices at which to split the array into pieces.\n",
    "\n",
    "\n",
    "\n",
    "# Array concatenation functions\n",
    "\n",
    "\n",
    "#            Function                   Description\n",
    "\n",
    "#            concatenate                Most general function, concatenates collection of arrays along one axis\n",
    "#            vstack, row_stack          Stack arrays row-wise (along axis 0)\n",
    "#            hstack                     Stack arrays column-wise (along axis 1)\n",
    "#            column_stack               Like hstack, but converts 1D arrays to 2D column vectors first\n",
    "#            dstack                     Stack arrays “depth”-wise (along axis 2)\n",
    "#            split                      Split array at passed locations along a particular axis\n",
    "#            hsplit/vsplit              Convenience functions for splitting on axis 0 and 1, respectively"
   ]
  },
  {
   "cell_type": "code",
   "execution_count": 47,
   "metadata": {},
   "outputs": [
    {
     "data": {
      "text/plain": [
       "array([0, 1, 2, 3, 4, 5])"
      ]
     },
     "execution_count": 47,
     "metadata": {},
     "output_type": "execute_result"
    }
   ],
   "source": [
    "# Stacking helpers: r_ and c_\n",
    "\n",
    "# There are two special objects in the NumPy namespace, r_ and c_, that make stacking arrays more concise:\n",
    "\n",
    "\n",
    "arr = np.arange(6)\n",
    "\n",
    "arr"
   ]
  },
  {
   "cell_type": "code",
   "execution_count": 49,
   "metadata": {},
   "outputs": [
    {
     "data": {
      "text/plain": [
       "array([[0, 1],\n",
       "       [2, 3],\n",
       "       [4, 5]])"
      ]
     },
     "execution_count": 49,
     "metadata": {},
     "output_type": "execute_result"
    }
   ],
   "source": [
    "arr1 = arr.reshape((3, 2))\n",
    "\n",
    "arr1"
   ]
  },
  {
   "cell_type": "code",
   "execution_count": 50,
   "metadata": {},
   "outputs": [
    {
     "data": {
      "text/plain": [
       "array([[ 0.29376076,  0.68752243],\n",
       "       [-2.53306114,  1.66854045],\n",
       "       [ 0.01309395,  1.70704312]])"
      ]
     },
     "execution_count": 50,
     "metadata": {},
     "output_type": "execute_result"
    }
   ],
   "source": [
    "arr2 = np.random.randn(3, 2)\n",
    "\n",
    "arr2"
   ]
  },
  {
   "cell_type": "code",
   "execution_count": 51,
   "metadata": {},
   "outputs": [
    {
     "data": {
      "text/plain": [
       "array([[ 0.        ,  1.        ],\n",
       "       [ 2.        ,  3.        ],\n",
       "       [ 4.        ,  5.        ],\n",
       "       [ 0.29376076,  0.68752243],\n",
       "       [-2.53306114,  1.66854045],\n",
       "       [ 0.01309395,  1.70704312]])"
      ]
     },
     "execution_count": 51,
     "metadata": {},
     "output_type": "execute_result"
    }
   ],
   "source": [
    "np.r_[arr1, arr2]"
   ]
  },
  {
   "cell_type": "code",
   "execution_count": 54,
   "metadata": {},
   "outputs": [
    {
     "data": {
      "text/plain": [
       "array([[ 0.        ,  1.        ,  0.29376076,  0.68752243],\n",
       "       [ 2.        ,  3.        , -2.53306114,  1.66854045],\n",
       "       [ 4.        ,  5.        ,  0.01309395,  1.70704312]])"
      ]
     },
     "execution_count": 54,
     "metadata": {},
     "output_type": "execute_result"
    }
   ],
   "source": [
    "np.c_[arr1, arr2]"
   ]
  },
  {
   "cell_type": "code",
   "execution_count": 60,
   "metadata": {},
   "outputs": [
    {
     "data": {
      "text/plain": [
       "array([[ 0.        ,  1.        ,  0.        ],\n",
       "       [ 2.        ,  3.        ,  1.        ],\n",
       "       [ 4.        ,  5.        ,  2.        ],\n",
       "       [ 0.29376076,  0.68752243,  3.        ],\n",
       "       [-2.53306114,  1.66854045,  4.        ],\n",
       "       [ 0.01309395,  1.70704312,  5.        ]])"
      ]
     },
     "execution_count": 60,
     "metadata": {},
     "output_type": "execute_result"
    }
   ],
   "source": [
    "np.c_[np.r_[arr1, arr2], arr]"
   ]
  },
  {
   "cell_type": "code",
   "execution_count": 61,
   "metadata": {},
   "outputs": [
    {
     "data": {
      "text/plain": [
       "array([[  1, -10],\n",
       "       [  2,  -9],\n",
       "       [  3,  -8],\n",
       "       [  4,  -7],\n",
       "       [  5,  -6]])"
      ]
     },
     "execution_count": 61,
     "metadata": {},
     "output_type": "execute_result"
    }
   ],
   "source": [
    "# These additionally can translate slices to arrays:\n",
    "\n",
    "np.c_[1:6, -10:-5]"
   ]
  },
  {
   "cell_type": "code",
   "execution_count": 62,
   "metadata": {},
   "outputs": [
    {
     "data": {
      "text/plain": [
       "array([  1,   2,   3,   4,   5, -10,  -9,  -8,  -7,  -6])"
      ]
     },
     "execution_count": 62,
     "metadata": {},
     "output_type": "execute_result"
    }
   ],
   "source": [
    "np.r_[1:6, -10:-5]"
   ]
  },
  {
   "cell_type": "code",
   "execution_count": null,
   "metadata": {},
   "outputs": [],
   "source": [
    "# See the docstring for more on what you can do with c_ and r_."
   ]
  },
  {
   "cell_type": "code",
   "execution_count": 63,
   "metadata": {},
   "outputs": [
    {
     "data": {
      "text/plain": [
       "array([0, 1, 2])"
      ]
     },
     "execution_count": 63,
     "metadata": {},
     "output_type": "execute_result"
    }
   ],
   "source": [
    "# Repeating Elements: tile and repeat\n",
    "\n",
    "# Two useful tools for repeating or replicating arrays to produce larger arrays \n",
    "    # are the repeat and tile functions. \n",
    "    # repeat replicates each element in an array some number of times, producing a larger array:\n",
    "\n",
    "\n",
    "arr = np.arange(3)\n",
    "\n",
    "arr"
   ]
  },
  {
   "cell_type": "code",
   "execution_count": 64,
   "metadata": {},
   "outputs": [
    {
     "data": {
      "text/plain": [
       "array([0, 0, 0, 1, 1, 1, 2, 2, 2])"
      ]
     },
     "execution_count": 64,
     "metadata": {},
     "output_type": "execute_result"
    }
   ],
   "source": [
    "arr.repeat(3)"
   ]
  },
  {
   "cell_type": "code",
   "execution_count": 65,
   "metadata": {},
   "outputs": [
    {
     "data": {
      "text/plain": [
       "array([0, 0, 0, 0, 1, 1, 1, 1, 2, 2, 2, 2])"
      ]
     },
     "execution_count": 65,
     "metadata": {},
     "output_type": "execute_result"
    }
   ],
   "source": [
    "arr.repeat(4)"
   ]
  },
  {
   "cell_type": "code",
   "execution_count": 66,
   "metadata": {},
   "outputs": [
    {
     "data": {
      "text/plain": [
       "array([0, 0, 0, 0, 0, 1, 1, 1, 1, 1, 2, 2, 2, 2, 2])"
      ]
     },
     "execution_count": 66,
     "metadata": {},
     "output_type": "execute_result"
    }
   ],
   "source": [
    "arr.repeat(5)"
   ]
  },
  {
   "cell_type": "code",
   "execution_count": 69,
   "metadata": {},
   "outputs": [
    {
     "data": {
      "text/plain": [
       "array([0, 0, 1, 1, 1, 2, 2, 2, 2])"
      ]
     },
     "execution_count": 69,
     "metadata": {},
     "output_type": "execute_result"
    }
   ],
   "source": [
    "# The need to replicate or repeat arrays can be less common with NumPy than it is with other array programming\n",
    "    # frameworks like MATLAB. One reason for this is that broadcasting often fills this need better.\n",
    "    \n",
    "# By default, if you pass an integer, each element will be repeated that number of times.\n",
    "    # If you pass an array of integers, each element can be repeated a different number of times:\n",
    "\n",
    "\n",
    "arr.repeat([2, 3, 4])"
   ]
  },
  {
   "cell_type": "code",
   "execution_count": 70,
   "metadata": {},
   "outputs": [
    {
     "data": {
      "text/plain": [
       "array([0, 0, 0, 0, 1, 1, 1, 1, 1, 1, 1, 2, 2, 2, 2, 2, 2, 2, 2, 2])"
      ]
     },
     "execution_count": 70,
     "metadata": {},
     "output_type": "execute_result"
    }
   ],
   "source": [
    "arr.repeat([4, 7, 9])"
   ]
  },
  {
   "cell_type": "code",
   "execution_count": 71,
   "metadata": {},
   "outputs": [
    {
     "data": {
      "text/plain": [
       "array([[-0.64286408, -0.88167946],\n",
       "       [-0.03991212, -1.66391726]])"
      ]
     },
     "execution_count": 71,
     "metadata": {},
     "output_type": "execute_result"
    }
   ],
   "source": [
    "# Multidimensional arrays can have their elements repeated along a particular axis.\n",
    "\n",
    "\n",
    "arr = np.random.randn(2, 2)\n",
    "\n",
    "arr"
   ]
  },
  {
   "cell_type": "code",
   "execution_count": 72,
   "metadata": {},
   "outputs": [
    {
     "data": {
      "text/plain": [
       "array([[-0.64286408, -0.88167946],\n",
       "       [-0.64286408, -0.88167946],\n",
       "       [-0.03991212, -1.66391726],\n",
       "       [-0.03991212, -1.66391726]])"
      ]
     },
     "execution_count": 72,
     "metadata": {},
     "output_type": "execute_result"
    }
   ],
   "source": [
    "arr.repeat(2, axis=0)"
   ]
  },
  {
   "cell_type": "code",
   "execution_count": 73,
   "metadata": {},
   "outputs": [
    {
     "data": {
      "text/plain": [
       "array([[-0.64286408, -0.64286408, -0.88167946, -0.88167946],\n",
       "       [-0.03991212, -0.03991212, -1.66391726, -1.66391726]])"
      ]
     },
     "execution_count": 73,
     "metadata": {},
     "output_type": "execute_result"
    }
   ],
   "source": [
    "arr.repeat(2, axis=1)"
   ]
  },
  {
   "cell_type": "code",
   "execution_count": 74,
   "metadata": {},
   "outputs": [
    {
     "data": {
      "text/plain": [
       "array([[-0.64286408, -0.88167946],\n",
       "       [-0.64286408, -0.88167946],\n",
       "       [-0.64286408, -0.88167946],\n",
       "       [-0.64286408, -0.88167946],\n",
       "       [-0.64286408, -0.88167946],\n",
       "       [-0.64286408, -0.88167946],\n",
       "       [-0.64286408, -0.88167946],\n",
       "       [-0.03991212, -1.66391726],\n",
       "       [-0.03991212, -1.66391726],\n",
       "       [-0.03991212, -1.66391726],\n",
       "       [-0.03991212, -1.66391726],\n",
       "       [-0.03991212, -1.66391726],\n",
       "       [-0.03991212, -1.66391726],\n",
       "       [-0.03991212, -1.66391726]])"
      ]
     },
     "execution_count": 74,
     "metadata": {},
     "output_type": "execute_result"
    }
   ],
   "source": [
    "arr.repeat(7, axis=0)"
   ]
  },
  {
   "cell_type": "code",
   "execution_count": 75,
   "metadata": {},
   "outputs": [
    {
     "data": {
      "text/plain": [
       "array([[-0.64286408, -0.64286408, -0.64286408, -0.64286408, -0.64286408,\n",
       "        -0.64286408, -0.64286408, -0.88167946, -0.88167946, -0.88167946,\n",
       "        -0.88167946, -0.88167946, -0.88167946, -0.88167946],\n",
       "       [-0.03991212, -0.03991212, -0.03991212, -0.03991212, -0.03991212,\n",
       "        -0.03991212, -0.03991212, -1.66391726, -1.66391726, -1.66391726,\n",
       "        -1.66391726, -1.66391726, -1.66391726, -1.66391726]])"
      ]
     },
     "execution_count": 75,
     "metadata": {},
     "output_type": "execute_result"
    }
   ],
   "source": [
    "arr.repeat(7, axis=1)"
   ]
  },
  {
   "cell_type": "code",
   "execution_count": 76,
   "metadata": {},
   "outputs": [
    {
     "data": {
      "text/plain": [
       "array([[-0.64286408, -0.88167946],\n",
       "       [-0.64286408, -0.88167946],\n",
       "       [-0.03991212, -1.66391726],\n",
       "       [-0.03991212, -1.66391726],\n",
       "       [-0.03991212, -1.66391726]])"
      ]
     },
     "execution_count": 76,
     "metadata": {},
     "output_type": "execute_result"
    }
   ],
   "source": [
    "# Note that if no axis is passed, the array will be flattened first, which is likely not what you want. \n",
    "    # Similarly, you can pass an array of integers when repeating a multidimensional array \n",
    "    # to repeat a given slice a different number of times:\n",
    "\n",
    "\n",
    "arr.repeat([2, 3], axis=0)"
   ]
  },
  {
   "cell_type": "code",
   "execution_count": 77,
   "metadata": {},
   "outputs": [
    {
     "data": {
      "text/plain": [
       "array([[-0.64286408, -0.64286408, -0.88167946, -0.88167946, -0.88167946],\n",
       "       [-0.03991212, -0.03991212, -1.66391726, -1.66391726, -1.66391726]])"
      ]
     },
     "execution_count": 77,
     "metadata": {},
     "output_type": "execute_result"
    }
   ],
   "source": [
    "arr.repeat([2, 3], axis=1)"
   ]
  },
  {
   "cell_type": "code",
   "execution_count": 78,
   "metadata": {},
   "outputs": [
    {
     "data": {
      "text/plain": [
       "array([[-0.64286408, -0.88167946],\n",
       "       [-0.03991212, -1.66391726]])"
      ]
     },
     "execution_count": 78,
     "metadata": {},
     "output_type": "execute_result"
    }
   ],
   "source": [
    "# tile, on the other hand, is a shortcut for stacking copies of an array along an axis.\n",
    "    # Visually you can think of it as being akin to “laying down tiles”:\n",
    "\n",
    "\n",
    "arr"
   ]
  },
  {
   "cell_type": "code",
   "execution_count": 79,
   "metadata": {},
   "outputs": [
    {
     "data": {
      "text/plain": [
       "array([[-0.64286408, -0.88167946, -0.64286408, -0.88167946],\n",
       "       [-0.03991212, -1.66391726, -0.03991212, -1.66391726]])"
      ]
     },
     "execution_count": 79,
     "metadata": {},
     "output_type": "execute_result"
    }
   ],
   "source": [
    "np.tile(arr, 2)"
   ]
  },
  {
   "cell_type": "code",
   "execution_count": 80,
   "metadata": {},
   "outputs": [
    {
     "data": {
      "text/plain": [
       "array([[-0.64286408, -0.88167946, -0.64286408, -0.88167946, -0.64286408,\n",
       "        -0.88167946, -0.64286408, -0.88167946, -0.64286408, -0.88167946,\n",
       "        -0.64286408, -0.88167946, -0.64286408, -0.88167946],\n",
       "       [-0.03991212, -1.66391726, -0.03991212, -1.66391726, -0.03991212,\n",
       "        -1.66391726, -0.03991212, -1.66391726, -0.03991212, -1.66391726,\n",
       "        -0.03991212, -1.66391726, -0.03991212, -1.66391726]])"
      ]
     },
     "execution_count": 80,
     "metadata": {},
     "output_type": "execute_result"
    }
   ],
   "source": [
    "np.tile(arr, 7)"
   ]
  },
  {
   "cell_type": "code",
   "execution_count": 81,
   "metadata": {},
   "outputs": [
    {
     "data": {
      "text/plain": [
       "array([[-0.64286408, -0.88167946],\n",
       "       [-0.03991212, -1.66391726]])"
      ]
     },
     "execution_count": 81,
     "metadata": {},
     "output_type": "execute_result"
    }
   ],
   "source": [
    "# The second argument is the number of tiles; with a scalar, the tiling is made row by row,\n",
    "    # rather than column by column.\n",
    "    # The second argument to tile can be a tuple indicating the layout of the “tiling”:\n",
    "    \n",
    "arr"
   ]
  },
  {
   "cell_type": "code",
   "execution_count": 82,
   "metadata": {},
   "outputs": [
    {
     "data": {
      "text/plain": [
       "array([[-0.64286408, -0.88167946],\n",
       "       [-0.03991212, -1.66391726],\n",
       "       [-0.64286408, -0.88167946],\n",
       "       [-0.03991212, -1.66391726]])"
      ]
     },
     "execution_count": 82,
     "metadata": {},
     "output_type": "execute_result"
    }
   ],
   "source": [
    "np.tile(arr, (2, 1))"
   ]
  },
  {
   "cell_type": "code",
   "execution_count": 85,
   "metadata": {},
   "outputs": [
    {
     "data": {
      "text/plain": [
       "array([[-0.64286408, -0.88167946, -0.64286408, -0.88167946],\n",
       "       [-0.03991212, -1.66391726, -0.03991212, -1.66391726]])"
      ]
     },
     "execution_count": 85,
     "metadata": {},
     "output_type": "execute_result"
    }
   ],
   "source": [
    "np.tile(arr, (1, 2))"
   ]
  },
  {
   "cell_type": "code",
   "execution_count": 86,
   "metadata": {},
   "outputs": [
    {
     "data": {
      "text/plain": [
       "array([[-0.64286408, -0.88167946, -0.64286408, -0.88167946],\n",
       "       [-0.03991212, -1.66391726, -0.03991212, -1.66391726],\n",
       "       [-0.64286408, -0.88167946, -0.64286408, -0.88167946],\n",
       "       [-0.03991212, -1.66391726, -0.03991212, -1.66391726],\n",
       "       [-0.64286408, -0.88167946, -0.64286408, -0.88167946],\n",
       "       [-0.03991212, -1.66391726, -0.03991212, -1.66391726]])"
      ]
     },
     "execution_count": 86,
     "metadata": {},
     "output_type": "execute_result"
    }
   ],
   "source": [
    "np.tile(arr, (3, 2))"
   ]
  },
  {
   "cell_type": "code",
   "execution_count": 87,
   "metadata": {},
   "outputs": [
    {
     "data": {
      "text/plain": [
       "array([[-0.64286408, -0.88167946, -0.64286408, -0.88167946, -0.64286408,\n",
       "        -0.88167946],\n",
       "       [-0.03991212, -1.66391726, -0.03991212, -1.66391726, -0.03991212,\n",
       "        -1.66391726],\n",
       "       [-0.64286408, -0.88167946, -0.64286408, -0.88167946, -0.64286408,\n",
       "        -0.88167946],\n",
       "       [-0.03991212, -1.66391726, -0.03991212, -1.66391726, -0.03991212,\n",
       "        -1.66391726]])"
      ]
     },
     "execution_count": 87,
     "metadata": {},
     "output_type": "execute_result"
    }
   ],
   "source": [
    "np.tile(arr, (2, 3))"
   ]
  },
  {
   "cell_type": "code",
   "execution_count": 83,
   "metadata": {
    "collapsed": true,
    "jupyter": {
     "outputs_hidden": true
    }
   },
   "outputs": [
    {
     "data": {
      "text/plain": [
       "array([[-0.64286408, -0.88167946, -0.64286408, -0.88167946, -0.64286408,\n",
       "        -0.88167946, -0.64286408, -0.88167946, -0.64286408, -0.88167946,\n",
       "        -0.64286408, -0.88167946, -0.64286408, -0.88167946],\n",
       "       [-0.03991212, -1.66391726, -0.03991212, -1.66391726, -0.03991212,\n",
       "        -1.66391726, -0.03991212, -1.66391726, -0.03991212, -1.66391726,\n",
       "        -0.03991212, -1.66391726, -0.03991212, -1.66391726],\n",
       "       [-0.64286408, -0.88167946, -0.64286408, -0.88167946, -0.64286408,\n",
       "        -0.88167946, -0.64286408, -0.88167946, -0.64286408, -0.88167946,\n",
       "        -0.64286408, -0.88167946, -0.64286408, -0.88167946],\n",
       "       [-0.03991212, -1.66391726, -0.03991212, -1.66391726, -0.03991212,\n",
       "        -1.66391726, -0.03991212, -1.66391726, -0.03991212, -1.66391726,\n",
       "        -0.03991212, -1.66391726, -0.03991212, -1.66391726]])"
      ]
     },
     "execution_count": 83,
     "metadata": {},
     "output_type": "execute_result"
    }
   ],
   "source": [
    "np.tile(arr, (2, 7))"
   ]
  },
  {
   "cell_type": "code",
   "execution_count": 84,
   "metadata": {},
   "outputs": [
    {
     "data": {
      "text/plain": [
       "array([[-0.64286408, -0.88167946, -0.64286408, -0.88167946],\n",
       "       [-0.03991212, -1.66391726, -0.03991212, -1.66391726],\n",
       "       [-0.64286408, -0.88167946, -0.64286408, -0.88167946],\n",
       "       [-0.03991212, -1.66391726, -0.03991212, -1.66391726],\n",
       "       [-0.64286408, -0.88167946, -0.64286408, -0.88167946],\n",
       "       [-0.03991212, -1.66391726, -0.03991212, -1.66391726],\n",
       "       [-0.64286408, -0.88167946, -0.64286408, -0.88167946],\n",
       "       [-0.03991212, -1.66391726, -0.03991212, -1.66391726],\n",
       "       [-0.64286408, -0.88167946, -0.64286408, -0.88167946],\n",
       "       [-0.03991212, -1.66391726, -0.03991212, -1.66391726],\n",
       "       [-0.64286408, -0.88167946, -0.64286408, -0.88167946],\n",
       "       [-0.03991212, -1.66391726, -0.03991212, -1.66391726],\n",
       "       [-0.64286408, -0.88167946, -0.64286408, -0.88167946],\n",
       "       [-0.03991212, -1.66391726, -0.03991212, -1.66391726]])"
      ]
     },
     "execution_count": 84,
     "metadata": {},
     "output_type": "execute_result"
    }
   ],
   "source": [
    "np.tile(arr, (7, 2))"
   ]
  },
  {
   "cell_type": "code",
   "execution_count": 88,
   "metadata": {},
   "outputs": [
    {
     "data": {
      "text/plain": [
       "array([  0, 100, 200, 300, 400, 500, 600, 700, 800, 900])"
      ]
     },
     "execution_count": 88,
     "metadata": {},
     "output_type": "execute_result"
    }
   ],
   "source": [
    "# Fancy Indexing Equivalents: take and put\n",
    "\n",
    "# One way to get and set subsets of arrays is by fancy indexing using integer arrays:\n",
    "\n",
    "\n",
    "arr = np.arange(10) * 100\n",
    "\n",
    "arr"
   ]
  },
  {
   "cell_type": "code",
   "execution_count": 89,
   "metadata": {},
   "outputs": [
    {
     "data": {
      "text/plain": [
       "[7, 1, 2, 6]"
      ]
     },
     "execution_count": 89,
     "metadata": {},
     "output_type": "execute_result"
    }
   ],
   "source": [
    "inds = [7, 1, 2, 6]\n",
    "\n",
    "inds"
   ]
  },
  {
   "cell_type": "code",
   "execution_count": 90,
   "metadata": {},
   "outputs": [
    {
     "data": {
      "text/plain": [
       "array([700, 100, 200, 600])"
      ]
     },
     "execution_count": 90,
     "metadata": {},
     "output_type": "execute_result"
    }
   ],
   "source": [
    "arr[inds]"
   ]
  },
  {
   "cell_type": "code",
   "execution_count": 91,
   "metadata": {},
   "outputs": [
    {
     "data": {
      "text/plain": [
       "array([700, 100, 200, 600])"
      ]
     },
     "execution_count": 91,
     "metadata": {},
     "output_type": "execute_result"
    }
   ],
   "source": [
    "# There are alternative ndarray methods that are useful in the special case of only making\n",
    "    # a selection on a single axis:\n",
    "\n",
    "\n",
    "arr.take(inds)"
   ]
  },
  {
   "cell_type": "code",
   "execution_count": 92,
   "metadata": {},
   "outputs": [
    {
     "data": {
      "text/plain": [
       "array([  0,  42,  42, 300, 400, 500,  42,  42, 800, 900])"
      ]
     },
     "execution_count": 92,
     "metadata": {},
     "output_type": "execute_result"
    }
   ],
   "source": [
    "arr.put(inds, 42)\n",
    "\n",
    "arr"
   ]
  },
  {
   "cell_type": "code",
   "execution_count": 93,
   "metadata": {},
   "outputs": [
    {
     "data": {
      "text/plain": [
       "array([  0,  41,  42, 300, 400, 500,  43,  40, 800, 900])"
      ]
     },
     "execution_count": 93,
     "metadata": {},
     "output_type": "execute_result"
    }
   ],
   "source": [
    "arr.put(inds, [40, 41, 42, 43])\n",
    "\n",
    "arr"
   ]
  },
  {
   "cell_type": "code",
   "execution_count": 95,
   "metadata": {},
   "outputs": [
    {
     "data": {
      "text/plain": [
       "[2, 0, 2, 1]"
      ]
     },
     "execution_count": 95,
     "metadata": {},
     "output_type": "execute_result"
    }
   ],
   "source": [
    "# To use take along other axes, you can pass the axis keyword:\n",
    "\n",
    "\n",
    "inds = [2, 0, 2, 1]\n",
    "\n",
    "inds"
   ]
  },
  {
   "cell_type": "code",
   "execution_count": 96,
   "metadata": {},
   "outputs": [
    {
     "data": {
      "text/plain": [
       "array([[-0.6864408 ,  0.07286014,  0.58338652, -2.01298925],\n",
       "       [ 0.34688456,  0.14186142,  0.18422074,  0.77167161]])"
      ]
     },
     "execution_count": 96,
     "metadata": {},
     "output_type": "execute_result"
    }
   ],
   "source": [
    "arr = np.random.randn(2, 4)\n",
    "\n",
    "arr"
   ]
  },
  {
   "cell_type": "code",
   "execution_count": 97,
   "metadata": {},
   "outputs": [
    {
     "data": {
      "text/plain": [
       "array([[ 0.58338652, -0.6864408 ,  0.58338652,  0.07286014],\n",
       "       [ 0.18422074,  0.34688456,  0.18422074,  0.14186142]])"
      ]
     },
     "execution_count": 97,
     "metadata": {},
     "output_type": "execute_result"
    }
   ],
   "source": [
    "arr.take(inds, axis=1)"
   ]
  },
  {
   "cell_type": "code",
   "execution_count": 99,
   "metadata": {},
   "outputs": [],
   "source": [
    "# put does not accept an axis argument but rather indexes into the flattened (onedimensional, C order) version\n",
    "    # of the array. \n",
    "    # Thus, when you need to set elements using an index array on other axes, \n",
    "    # it is often easiest to use fancy indexing."
   ]
  },
  {
   "cell_type": "code",
   "execution_count": 6,
   "metadata": {},
   "outputs": [
    {
     "data": {
      "text/plain": [
       "array([0, 1, 2, 3, 4])"
      ]
     },
     "execution_count": 6,
     "metadata": {},
     "output_type": "execute_result"
    }
   ],
   "source": [
    "# Broadcasting\n",
    "\n",
    "# Broadcasting describes how arithmetic works between arrays of different shapes.\n",
    "    # It can be a powerful feature, but one that can cause confusion, even for experienced users.\n",
    "    # The simplest example of broadcasting occurs when combining a scalar value with an array:\n",
    "\n",
    "    \n",
    "arr = np.arange(5)\n",
    "\n",
    "arr"
   ]
  },
  {
   "cell_type": "code",
   "execution_count": 7,
   "metadata": {},
   "outputs": [
    {
     "data": {
      "text/plain": [
       "array([ 0,  4,  8, 12, 16])"
      ]
     },
     "execution_count": 7,
     "metadata": {},
     "output_type": "execute_result"
    }
   ],
   "source": [
    "arr * 4"
   ]
  },
  {
   "cell_type": "code",
   "execution_count": 8,
   "metadata": {},
   "outputs": [
    {
     "data": {
      "text/plain": [
       "array([[-0.4290365 , -1.23478276,  0.04131859],\n",
       "       [ 0.41796202, -1.44762384,  0.42056144],\n",
       "       [ 0.00224038,  0.47297833, -0.26550207],\n",
       "       [-0.49401702, -1.02432231,  0.52866203]])"
      ]
     },
     "execution_count": 8,
     "metadata": {},
     "output_type": "execute_result"
    }
   ],
   "source": [
    "# Above we say that the scalar value 4 has been broadcast to all of the other elements in\n",
    "    # the multiplication operation.\n",
    "\n",
    "# For example, we can demean each column of an array by subtracting the column means.\n",
    "    # In this case, it is very simple:\n",
    "    \n",
    "\n",
    "arr = np.random.randn(4, 3)\n",
    "\n",
    "arr"
   ]
  },
  {
   "cell_type": "code",
   "execution_count": 9,
   "metadata": {},
   "outputs": [
    {
     "data": {
      "text/plain": [
       "-0.2509634766353159"
      ]
     },
     "execution_count": 9,
     "metadata": {},
     "output_type": "execute_result"
    }
   ],
   "source": [
    "arr.mean()"
   ]
  },
  {
   "cell_type": "code",
   "execution_count": 10,
   "metadata": {},
   "outputs": [
    {
     "data": {
      "text/plain": [
       "array([-0.12571278, -0.80843765,  0.18126   ])"
      ]
     },
     "execution_count": 10,
     "metadata": {},
     "output_type": "execute_result"
    }
   ],
   "source": [
    "arr.mean(0)"
   ]
  },
  {
   "cell_type": "code",
   "execution_count": 11,
   "metadata": {},
   "outputs": [
    {
     "data": {
      "text/plain": [
       "array([-0.54083356, -0.20303346,  0.06990555, -0.32989243])"
      ]
     },
     "execution_count": 11,
     "metadata": {},
     "output_type": "execute_result"
    }
   ],
   "source": [
    "arr.mean(1)"
   ]
  },
  {
   "cell_type": "code",
   "execution_count": 13,
   "metadata": {},
   "outputs": [
    {
     "data": {
      "text/plain": [
       "array([[-0.30332372, -0.42634511, -0.13994141],\n",
       "       [ 0.5436748 , -0.6391862 ,  0.23930144],\n",
       "       [ 0.12795316,  1.28141597, -0.44676207],\n",
       "       [-0.36830424, -0.21588466,  0.34740203]])"
      ]
     },
     "execution_count": 13,
     "metadata": {},
     "output_type": "execute_result"
    }
   ],
   "source": [
    "demeaned = arr - arr.mean(0)\n",
    "\n",
    "demeaned"
   ]
  },
  {
   "cell_type": "code",
   "execution_count": 15,
   "metadata": {},
   "outputs": [
    {
     "data": {
      "text/plain": [
       "-1.3877787807814457e-17"
      ]
     },
     "execution_count": 15,
     "metadata": {},
     "output_type": "execute_result"
    }
   ],
   "source": [
    "demeaned.mean()"
   ]
  },
  {
   "cell_type": "code",
   "execution_count": 16,
   "metadata": {},
   "outputs": [
    {
     "data": {
      "text/plain": [
       "array([ 1.38777878e-17, -2.77555756e-17,  0.00000000e+00])"
      ]
     },
     "execution_count": 16,
     "metadata": {},
     "output_type": "execute_result"
    }
   ],
   "source": [
    "demeaned.mean(0)"
   ]
  },
  {
   "cell_type": "code",
   "execution_count": 17,
   "metadata": {},
   "outputs": [
    {
     "data": {
      "text/plain": [
       "array([-0.28987008,  0.04793002,  0.32086902, -0.07892896])"
      ]
     },
     "execution_count": 17,
     "metadata": {},
     "output_type": "execute_result"
    }
   ],
   "source": [
    "demeaned.mean(1)"
   ]
  },
  {
   "cell_type": "code",
   "execution_count": null,
   "metadata": {},
   "outputs": [],
   "source": [
    "# Demeaning the rows as a broadcast operation requires a bit more care. \n",
    "    # Fortunately, broadcasting potentially lower dimensional values across any dimension of an array\n",
    "    # (like subtracting the row means from each column of a two-dimensional array)\n",
    "    # is possible as long as you follow the rules.\n",
    "\n",
    "\n",
    "# This brings us to:\n",
    "     \n",
    "#                                The Broadcasting Rule\n",
    "# Two arrays are compatible for broadcasting if for each trailing dimension (i.e., starting from the end)\n",
    "# the axis lengths match or if either of the lengths is 1. Broadcasting is then performed over the missing\n",
    "# or length 1 dimensions."
   ]
  },
  {
   "cell_type": "code",
   "execution_count": 18,
   "metadata": {},
   "outputs": [
    {
     "data": {
      "text/plain": [
       "array([[-0.4290365 , -1.23478276,  0.04131859],\n",
       "       [ 0.41796202, -1.44762384,  0.42056144],\n",
       "       [ 0.00224038,  0.47297833, -0.26550207],\n",
       "       [-0.49401702, -1.02432231,  0.52866203]])"
      ]
     },
     "execution_count": 18,
     "metadata": {},
     "output_type": "execute_result"
    }
   ],
   "source": [
    "# Even as an experienced NumPy user, I often find myself having to pause and draw a diagram as I think about \n",
    "    # the broadcasting rule. \n",
    "    # Consider the last example and suppose we wished instead to subtract the mean value from each row. \n",
    "    # Since arr.mean(0) has length 3, it is compatible for broadcasting across axis 0 because the trailing\n",
    "    # dimension in arr is 3 and therefore matches. \n",
    "    # According to the rules, to subtract over axis 1 (i.e., subtract the row mean from each row),\n",
    "    # the smaller array must have shape (4, 1):\n",
    "    \n",
    "arr"
   ]
  },
  {
   "cell_type": "code",
   "execution_count": 21,
   "metadata": {},
   "outputs": [
    {
     "data": {
      "text/plain": [
       "array([-0.54083356, -0.20303346,  0.06990555, -0.32989243])"
      ]
     },
     "execution_count": 21,
     "metadata": {},
     "output_type": "execute_result"
    }
   ],
   "source": [
    "row_means = arr.mean(1)\n",
    "\n",
    "row_means"
   ]
  },
  {
   "cell_type": "code",
   "execution_count": 22,
   "metadata": {},
   "outputs": [
    {
     "data": {
      "text/plain": [
       "(4,)"
      ]
     },
     "execution_count": 22,
     "metadata": {},
     "output_type": "execute_result"
    }
   ],
   "source": [
    "row_means.shape"
   ]
  },
  {
   "cell_type": "code",
   "execution_count": 23,
   "metadata": {},
   "outputs": [
    {
     "data": {
      "text/plain": [
       "array([[-0.54083356],\n",
       "       [-0.20303346],\n",
       "       [ 0.06990555],\n",
       "       [-0.32989243]])"
      ]
     },
     "execution_count": 23,
     "metadata": {},
     "output_type": "execute_result"
    }
   ],
   "source": [
    "row_means.reshape((4,1))"
   ]
  },
  {
   "cell_type": "code",
   "execution_count": 25,
   "metadata": {},
   "outputs": [
    {
     "data": {
      "text/plain": [
       "array([[ 0.11179706, -0.6939492 ,  0.58215215],\n",
       "       [ 0.62099549, -1.24459038,  0.6235949 ],\n",
       "       [-0.06766516,  0.40307278, -0.33540762],\n",
       "       [-0.16412459, -0.69442987,  0.85855446]])"
      ]
     },
     "execution_count": 25,
     "metadata": {},
     "output_type": "execute_result"
    }
   ],
   "source": [
    "demeaned = arr - row_means.reshape((4,1))\n",
    "\n",
    "demeaned"
   ]
  },
  {
   "cell_type": "code",
   "execution_count": 26,
   "metadata": {},
   "outputs": [
    {
     "data": {
      "text/plain": [
       "1.850371707708594e-17"
      ]
     },
     "execution_count": 26,
     "metadata": {},
     "output_type": "execute_result"
    }
   ],
   "source": [
    "demeaned.mean()"
   ]
  },
  {
   "cell_type": "code",
   "execution_count": 27,
   "metadata": {},
   "outputs": [
    {
     "data": {
      "text/plain": [
       "array([ 0.1252507 , -0.55747417,  0.43222347])"
      ]
     },
     "execution_count": 27,
     "metadata": {},
     "output_type": "execute_result"
    }
   ],
   "source": [
    "demeaned.mean(0)"
   ]
  },
  {
   "cell_type": "code",
   "execution_count": 28,
   "metadata": {},
   "outputs": [
    {
     "data": {
      "text/plain": [
       "array([-3.70074342e-17,  3.70074342e-17,  0.00000000e+00,  0.00000000e+00])"
      ]
     },
     "execution_count": 28,
     "metadata": {},
     "output_type": "execute_result"
    }
   ],
   "source": [
    "demeaned.mean(1)"
   ]
  },
  {
   "cell_type": "code",
   "execution_count": 29,
   "metadata": {},
   "outputs": [
    {
     "ename": "ValueError",
     "evalue": "operands could not be broadcast together with shapes (4,3) (4,) ",
     "output_type": "error",
     "traceback": [
      "\u001b[1;31m---------------------------------------------------------------------------\u001b[0m",
      "\u001b[1;31mValueError\u001b[0m                                Traceback (most recent call last)",
      "\u001b[1;32m<ipython-input-29-9e4a803024ca>\u001b[0m in \u001b[0;36m<module>\u001b[1;34m\u001b[0m\n\u001b[0;32m      4\u001b[0m     \u001b[1;31m# butvit is really a matter of following the rules. If you don’t, you’ll get an error like this:\u001b[0m\u001b[1;33m\u001b[0m\u001b[1;33m\u001b[0m\u001b[1;33m\u001b[0m\u001b[0m\n\u001b[0;32m      5\u001b[0m \u001b[1;33m\u001b[0m\u001b[0m\n\u001b[1;32m----> 6\u001b[1;33m \u001b[0marr\u001b[0m \u001b[1;33m-\u001b[0m \u001b[0marr\u001b[0m\u001b[1;33m.\u001b[0m\u001b[0mmean\u001b[0m\u001b[1;33m(\u001b[0m\u001b[1;36m1\u001b[0m\u001b[1;33m)\u001b[0m\u001b[1;33m\u001b[0m\u001b[1;33m\u001b[0m\u001b[0m\n\u001b[0m",
      "\u001b[1;31mValueError\u001b[0m: operands could not be broadcast together with shapes (4,3) (4,) "
     ]
    }
   ],
   "source": [
    "# Broadcasting Over Other Axes\n",
    "\n",
    "# Broadcasting with higher dimensional arrays can seem even more mind-bending,\n",
    "    # but it is really a matter of following the rules. If you don’t, you’ll get an error like this:\n",
    "    \n",
    "arr - arr.mean(1)"
   ]
  },
  {
   "cell_type": "code",
   "execution_count": 30,
   "metadata": {},
   "outputs": [
    {
     "data": {
      "text/plain": [
       "array([[ 0.11179706, -0.6939492 ,  0.58215215],\n",
       "       [ 0.62099549, -1.24459038,  0.6235949 ],\n",
       "       [-0.06766516,  0.40307278, -0.33540762],\n",
       "       [-0.16412459, -0.69442987,  0.85855446]])"
      ]
     },
     "execution_count": 30,
     "metadata": {},
     "output_type": "execute_result"
    }
   ],
   "source": [
    "# It’s quite common to want to perform an arithmetic operation with a lower dimensional array \n",
    "    # across axes other than axis 0. \n",
    "    # According to the broadcasting rule, the “broadcast dimensions” must be 1 in the smaller array.\n",
    "    # In the example of row demeaning shown here, this meant reshaping the row means to be shape (4, 1)\n",
    "    # instead of (4,):\n",
    "    \n",
    "arr - arr.mean(1).reshape((4, 1))"
   ]
  },
  {
   "cell_type": "code",
   "execution_count": 32,
   "metadata": {},
   "outputs": [
    {
     "data": {
      "text/plain": [
       "array([[0., 0., 0., 0.],\n",
       "       [0., 0., 0., 0.],\n",
       "       [0., 0., 0., 0.],\n",
       "       [0., 0., 0., 0.]])"
      ]
     },
     "execution_count": 32,
     "metadata": {},
     "output_type": "execute_result"
    }
   ],
   "source": [
    "# In the three-dimensional case, broadcasting over any of the three dimensions is only a matter of reshaping\n",
    "    # the data to be shape-compatible.\n",
    "    \n",
    "# A common problem, therefore, is needing to add a new axis with length 1 specifically \n",
    "    # for broadcasting purposes.\n",
    "    # Using reshape is one option, but inserting an axis requires constructing a tuple \n",
    "    # indicating the new shape.This can often be a tedious exercise. \n",
    "    # Thus, NumPy arrays offer a special syntax for inserting new axes by indexing.\n",
    "    # We use the special np.newaxis attribute along with “full” slices to insert the new axis:\n",
    "    \n",
    "    \n",
    "arr = np.zeros((4, 4))\n",
    "\n",
    "arr"
   ]
  },
  {
   "cell_type": "code",
   "execution_count": 34,
   "metadata": {},
   "outputs": [
    {
     "data": {
      "text/plain": [
       "array([[[0., 0., 0., 0.]],\n",
       "\n",
       "       [[0., 0., 0., 0.]],\n",
       "\n",
       "       [[0., 0., 0., 0.]],\n",
       "\n",
       "       [[0., 0., 0., 0.]]])"
      ]
     },
     "execution_count": 34,
     "metadata": {},
     "output_type": "execute_result"
    }
   ],
   "source": [
    "arr_3d = arr[:, np.newaxis, :]\n",
    "\n",
    "arr_3d"
   ]
  },
  {
   "cell_type": "code",
   "execution_count": 35,
   "metadata": {},
   "outputs": [
    {
     "data": {
      "text/plain": [
       "(4, 1, 4)"
      ]
     },
     "execution_count": 35,
     "metadata": {},
     "output_type": "execute_result"
    }
   ],
   "source": [
    "arr_3d.shape"
   ]
  },
  {
   "cell_type": "code",
   "execution_count": 37,
   "metadata": {},
   "outputs": [
    {
     "data": {
      "text/plain": [
       "array([-0.40719218, -1.32142006,  0.12264432])"
      ]
     },
     "execution_count": 37,
     "metadata": {},
     "output_type": "execute_result"
    }
   ],
   "source": [
    "arr_1d = np.random.normal(size=3)\n",
    "\n",
    "arr_1d"
   ]
  },
  {
   "cell_type": "code",
   "execution_count": 38,
   "metadata": {},
   "outputs": [
    {
     "data": {
      "text/plain": [
       "array([[-0.40719218],\n",
       "       [-1.32142006],\n",
       "       [ 0.12264432]])"
      ]
     },
     "execution_count": 38,
     "metadata": {},
     "output_type": "execute_result"
    }
   ],
   "source": [
    "arr_1d[:, np.newaxis]"
   ]
  },
  {
   "cell_type": "code",
   "execution_count": 39,
   "metadata": {},
   "outputs": [
    {
     "data": {
      "text/plain": [
       "array([[-0.40719218, -1.32142006,  0.12264432]])"
      ]
     },
     "execution_count": 39,
     "metadata": {},
     "output_type": "execute_result"
    }
   ],
   "source": [
    "arr_1d[np.newaxis, :]"
   ]
  },
  {
   "cell_type": "code",
   "execution_count": 40,
   "metadata": {},
   "outputs": [
    {
     "data": {
      "text/plain": [
       "array([[[ 0.22067351,  3.01315715,  1.3245668 ,  0.73755868,\n",
       "          0.20639973],\n",
       "        [-0.6198023 ,  0.66000681, -0.82840268, -1.11622781,\n",
       "          0.86700759],\n",
       "        [-0.47165603, -0.71247087, -1.07217153, -0.11514507,\n",
       "          0.52126238],\n",
       "        [-1.22809747,  0.45778851,  0.69904621,  1.6742796 ,\n",
       "          1.07299997]],\n",
       "\n",
       "       [[ 0.07624852,  0.46179254, -0.82756269, -1.23275627,\n",
       "          2.32956618],\n",
       "        [-0.82614275, -0.77474342, -1.77655293, -0.91926351,\n",
       "          0.50336781],\n",
       "        [-1.08196146,  0.29968226,  0.96002316, -0.25009993,\n",
       "         -0.7572684 ],\n",
       "        [ 0.74146467, -1.00601945,  0.34643083,  1.12784706,\n",
       "          0.44480431]],\n",
       "\n",
       "       [[-0.59561434,  0.51490082,  1.87081664, -0.84672811,\n",
       "          1.33119253],\n",
       "        [ 0.55605734, -1.23795331, -1.47202384,  0.71790392,\n",
       "          0.29493959],\n",
       "        [ 0.55308327, -0.71064273,  0.31722041, -1.27594141,\n",
       "         -0.42941873],\n",
       "        [ 0.65510907,  1.57775787,  1.11032321,  0.72963188,\n",
       "         -0.73807179]]])"
      ]
     },
     "execution_count": 40,
     "metadata": {},
     "output_type": "execute_result"
    }
   ],
   "source": [
    "# Thus, if we had a three-dimensional array and wanted to demean axis 2, say, we would need to write:\n",
    "    \n",
    "arr = np.random.randn(3, 4, 5)\n",
    "\n",
    "arr"
   ]
  },
  {
   "cell_type": "code",
   "execution_count": 41,
   "metadata": {},
   "outputs": [
    {
     "data": {
      "text/plain": [
       "array([[ 1.10047117, -0.20748368, -0.37003622,  0.53520336],\n",
       "       [ 0.16145766, -0.75866696, -0.16592487,  0.33090548],\n",
       "       [ 0.45491351, -0.22821526, -0.30913984,  0.66695005]])"
      ]
     },
     "execution_count": 41,
     "metadata": {},
     "output_type": "execute_result"
    }
   ],
   "source": [
    "depth_means = arr.mean(2)\n",
    "\n",
    "depth_means"
   ]
  },
  {
   "cell_type": "code",
   "execution_count": 42,
   "metadata": {},
   "outputs": [
    {
     "data": {
      "text/plain": [
       "(3, 4)"
      ]
     },
     "execution_count": 42,
     "metadata": {},
     "output_type": "execute_result"
    }
   ],
   "source": [
    "depth_means.shape"
   ]
  },
  {
   "cell_type": "code",
   "execution_count": 44,
   "metadata": {},
   "outputs": [
    {
     "data": {
      "text/plain": [
       "array([[[-0.87979767,  1.91268598,  0.22409563, -0.3629125 ,\n",
       "         -0.89407144],\n",
       "        [-0.41231862,  0.86749049, -0.620919  , -0.90874413,\n",
       "          1.07449127],\n",
       "        [-0.1016198 , -0.34243465, -0.7021353 ,  0.25489115,\n",
       "          0.8912986 ],\n",
       "        [-1.76330084, -0.07741486,  0.16384285,  1.13907624,\n",
       "          0.5377966 ]],\n",
       "\n",
       "       [[-0.08520913,  0.30033488, -0.98902035, -1.39421393,\n",
       "          2.16810853],\n",
       "        [-0.06747579, -0.01607646, -1.01788597, -0.16059655,\n",
       "          1.26203477],\n",
       "        [-0.91603658,  0.46560713,  1.12594804, -0.08417506,\n",
       "         -0.59134353],\n",
       "        [ 0.41055918, -1.33692494,  0.01552535,  0.79694157,\n",
       "          0.11389883]],\n",
       "\n",
       "       [[-1.05052785,  0.05998731,  1.41590313, -1.30164161,\n",
       "          0.87627902],\n",
       "        [ 0.7842726 , -1.00973805, -1.24380858,  0.94611918,\n",
       "          0.52315485],\n",
       "        [ 0.86222311, -0.40150289,  0.62636025, -0.96680157,\n",
       "         -0.12027889],\n",
       "        [-0.01184098,  0.91080782,  0.44337316,  0.06268183,\n",
       "         -1.40502184]]])"
      ]
     },
     "execution_count": 44,
     "metadata": {},
     "output_type": "execute_result"
    }
   ],
   "source": [
    "demeaned = arr - depth_means[:, :, np.newaxis]\n",
    "\n",
    "demeaned"
   ]
  },
  {
   "cell_type": "code",
   "execution_count": 45,
   "metadata": {},
   "outputs": [
    {
     "data": {
      "text/plain": [
       "array([[-4.44089210e-17,  0.00000000e+00, -4.44089210e-17,\n",
       "        -4.44089210e-17],\n",
       "       [ 8.88178420e-17,  0.00000000e+00,  4.44089210e-17,\n",
       "         1.11022302e-17],\n",
       "       [ 0.00000000e+00,  0.00000000e+00,  6.66133815e-17,\n",
       "         0.00000000e+00]])"
      ]
     },
     "execution_count": 45,
     "metadata": {},
     "output_type": "execute_result"
    }
   ],
   "source": [
    "demeaned.mean(2)"
   ]
  },
  {
   "cell_type": "code",
   "execution_count": null,
   "metadata": {},
   "outputs": [],
   "source": [
    "# You might be wondering if there’s a way to generalize demeaning over an axis without sacrificing performance.\n",
    "    # There is, but it requires some indexing gymnastics:\n",
    "\n",
    "    \n",
    "def demean_axis(arr, axis=0):\n",
    "    means = arr.mean(axis)\n",
    "    \n",
    "    # This generalizes things like [:, :, np.newaxis] to N dimensions\n",
    "    indexer = [slice(None)] * arr.ndim\n",
    "    indexer[axis] = np.newaxis\n",
    "    return arr - means[indexer]"
   ]
  },
  {
   "cell_type": "code",
   "execution_count": 47,
   "metadata": {},
   "outputs": [
    {
     "data": {
      "text/plain": [
       "array([[0., 0., 0.],\n",
       "       [0., 0., 0.],\n",
       "       [0., 0., 0.],\n",
       "       [0., 0., 0.]])"
      ]
     },
     "execution_count": 47,
     "metadata": {},
     "output_type": "execute_result"
    }
   ],
   "source": [
    "# Setting Array Values by Broadcasting\n",
    "\n",
    "# The same broadcasting rule governing arithmetic operations also applies to setting values via array indexing.\n",
    "    # In a simple case, we can do things like:\n",
    "\n",
    "    \n",
    "arr = np.zeros((4, 3))\n",
    "\n",
    "arr"
   ]
  },
  {
   "cell_type": "code",
   "execution_count": 49,
   "metadata": {},
   "outputs": [
    {
     "data": {
      "text/plain": [
       "array([[5., 5., 5.],\n",
       "       [5., 5., 5.],\n",
       "       [5., 5., 5.],\n",
       "       [5., 5., 5.]])"
      ]
     },
     "execution_count": 49,
     "metadata": {},
     "output_type": "execute_result"
    }
   ],
   "source": [
    "arr[:] = 5\n",
    "\n",
    "arr"
   ]
  },
  {
   "cell_type": "code",
   "execution_count": 50,
   "metadata": {},
   "outputs": [
    {
     "data": {
      "text/plain": [
       "array([ 1.28, -0.42,  0.44,  1.6 ])"
      ]
     },
     "execution_count": 50,
     "metadata": {},
     "output_type": "execute_result"
    }
   ],
   "source": [
    "# However, if we had a one-dimensional array of values we wanted to set into the columns of the array,\n",
    "    # we can do that as long as the shape is compatible:\n",
    "\n",
    "    \n",
    "col = np.array([1.28, -0.42, 0.44, 1.6])\n",
    "\n",
    "col"
   ]
  },
  {
   "cell_type": "code",
   "execution_count": 51,
   "metadata": {},
   "outputs": [
    {
     "data": {
      "text/plain": [
       "array([[ 1.28,  1.28,  1.28],\n",
       "       [-0.42, -0.42, -0.42],\n",
       "       [ 0.44,  0.44,  0.44],\n",
       "       [ 1.6 ,  1.6 ,  1.6 ]])"
      ]
     },
     "execution_count": 51,
     "metadata": {},
     "output_type": "execute_result"
    }
   ],
   "source": [
    "arr[:] = col[:, np.newaxis]\n",
    "\n",
    "arr"
   ]
  },
  {
   "cell_type": "code",
   "execution_count": 52,
   "metadata": {},
   "outputs": [
    {
     "data": {
      "text/plain": [
       "array([[-1.37 , -1.37 , -1.37 ],\n",
       "       [ 0.509,  0.509,  0.509],\n",
       "       [ 0.44 ,  0.44 ,  0.44 ],\n",
       "       [ 1.6  ,  1.6  ,  1.6  ]])"
      ]
     },
     "execution_count": 52,
     "metadata": {},
     "output_type": "execute_result"
    }
   ],
   "source": [
    "arr[:2] = [[-1.37], [0.509]]\n",
    "\n",
    "arr"
   ]
  },
  {
   "cell_type": "code",
   "execution_count": null,
   "metadata": {},
   "outputs": [],
   "source": [
    "#Advanced ufunc Usage\n",
    "\n",
    "# While many NumPy users will only make use of the fast element-wise operations provided \n",
    "    # by the universal functions, there are a number of additional features that occasionally can help you \n",
    "    # write more concise code without loops.\n",
    "\n",
    "\n",
    "# ufunc Instance Methods\n",
    "\n",
    "# Each of NumPy’s binary ufuncs has special methods for performing certain kinds \n",
    "    # of special vectorized operations:\n",
    "    \n",
    "    \n",
    "#            Method                Description\n",
    "        \n",
    "#            reduce(x)             Aggregate values by successive applications of the operation\n",
    "            \n",
    "#            accumulate(x)         Aggregate values, preserving all partial aggregates\n",
    "            \n",
    "#            reduceat(x, bins)     “Local” reduce or “group by”; reduce contiguous slices of data \n",
    "#                                    to produce aggregated array\n",
    "                \n",
    "#            outer(x, y)           Apply operation to all pairs of elements in x and y;\n",
    "#                                    the resulting array has shape x.shape + y.shape\n",
    "    \n",
    "    "
   ]
  },
  {
   "cell_type": "code",
   "execution_count": 53,
   "metadata": {},
   "outputs": [
    {
     "data": {
      "text/plain": [
       "array([0, 1, 2, 3, 4, 5, 6, 7, 8, 9])"
      ]
     },
     "execution_count": 53,
     "metadata": {},
     "output_type": "execute_result"
    }
   ],
   "source": [
    "# reduce takes a single array and aggregates its values, optionally along an axis, \n",
    "    # by performing a sequence of binary operations. \n",
    "    # For example, an alternative way to sum elements in an array is to use np.add.reduce:\n",
    "\n",
    "\n",
    "arr = np.arange(10)\n",
    "\n",
    "arr"
   ]
  },
  {
   "cell_type": "code",
   "execution_count": 54,
   "metadata": {},
   "outputs": [
    {
     "data": {
      "text/plain": [
       "45"
      ]
     },
     "execution_count": 54,
     "metadata": {},
     "output_type": "execute_result"
    }
   ],
   "source": [
    "np.add.reduce(arr)"
   ]
  },
  {
   "cell_type": "code",
   "execution_count": 55,
   "metadata": {},
   "outputs": [
    {
     "data": {
      "text/plain": [
       "45"
      ]
     },
     "execution_count": 55,
     "metadata": {},
     "output_type": "execute_result"
    }
   ],
   "source": [
    "arr.sum()"
   ]
  },
  {
   "cell_type": "code",
   "execution_count": 57,
   "metadata": {},
   "outputs": [
    {
     "data": {
      "text/plain": [
       "array([[-8.99822478e-02,  7.59372617e-01,  7.48336101e-01,\n",
       "        -9.81497953e-01,  3.65775545e-01],\n",
       "       [-3.15442628e-01, -8.66135605e-01,  2.78568155e-02,\n",
       "        -4.55597723e-01, -1.60189223e+00],\n",
       "       [ 2.48256116e-01, -3.21536673e-01, -8.48730755e-01,\n",
       "         4.60468309e-04, -5.46459347e-01],\n",
       "       [ 2.53915229e-01,  1.93684246e+00, -7.99504902e-01,\n",
       "        -5.69159281e-01,  4.89244731e-02],\n",
       "       [-6.49092950e-01, -4.79535727e-01, -9.53521432e-01,\n",
       "         1.42253882e+00,  1.75403128e-01]])"
      ]
     },
     "execution_count": 57,
     "metadata": {},
     "output_type": "execute_result"
    }
   ],
   "source": [
    "# The starting value (0 for add) depends on the ufunc. \n",
    "    # If an axis is passed, the reduction is performed along that axis.\n",
    "    # This allows you to answer certain kinds of questions in a concise way.\n",
    "    # As a less trivial example, we can use np.logical_and to check whether the values \n",
    "    # in each row of an array are sorted:\n",
    "    \n",
    "    \n",
    "np.random.seed(12346) # for reproducibility\n",
    "\n",
    "arr = np.random.randn(5, 5)\n",
    "\n",
    "arr"
   ]
  },
  {
   "cell_type": "code",
   "execution_count": 64,
   "metadata": {},
   "outputs": [
    {
     "data": {
      "text/plain": [
       "array([[ True,  True,  True,  True],\n",
       "       [False,  True, False, False],\n",
       "       [ True,  True,  True,  True],\n",
       "       [ True, False,  True,  True],\n",
       "       [ True,  True,  True,  True]])"
      ]
     },
     "execution_count": 64,
     "metadata": {},
     "output_type": "execute_result"
    }
   ],
   "source": [
    "arr[::2].sort(1) # sort a few rows\n",
    "\n",
    "arr[:, :-1] < arr[:, 1:]"
   ]
  },
  {
   "cell_type": "code",
   "execution_count": 65,
   "metadata": {},
   "outputs": [
    {
     "data": {
      "text/plain": [
       "array([ True, False,  True, False,  True])"
      ]
     },
     "execution_count": 65,
     "metadata": {},
     "output_type": "execute_result"
    }
   ],
   "source": [
    "np.logical_and.reduce(arr[:, :-1] < arr[:, 1:], axis=1)"
   ]
  },
  {
   "cell_type": "code",
   "execution_count": 66,
   "metadata": {},
   "outputs": [
    {
     "data": {
      "text/plain": [
       "array([[ 0,  1,  2,  3,  4],\n",
       "       [ 5,  6,  7,  8,  9],\n",
       "       [10, 11, 12, 13, 14]])"
      ]
     },
     "execution_count": 66,
     "metadata": {},
     "output_type": "execute_result"
    }
   ],
   "source": [
    "# Note that logical_and.reduce is equivalent to the all method.\n",
    "\n",
    "# accumulate is related to reduce like cumsum is related to sum.\n",
    "    # It produces an array of the same size with the intermediate “accumulated” values:\n",
    "    \n",
    "    \n",
    "arr = np.arange(15).reshape((3, 5))\n",
    "\n",
    "arr"
   ]
  },
  {
   "cell_type": "code",
   "execution_count": 67,
   "metadata": {},
   "outputs": [
    {
     "data": {
      "text/plain": [
       "array([[ 0,  1,  3,  6, 10],\n",
       "       [ 5, 11, 18, 26, 35],\n",
       "       [10, 21, 33, 46, 60]], dtype=int32)"
      ]
     },
     "execution_count": 67,
     "metadata": {},
     "output_type": "execute_result"
    }
   ],
   "source": [
    "np.add.accumulate(arr, axis=1)"
   ]
  },
  {
   "cell_type": "code",
   "execution_count": 68,
   "metadata": {},
   "outputs": [
    {
     "data": {
      "text/plain": [
       "array([[ 0,  1,  2,  3,  4],\n",
       "       [ 5,  7,  9, 11, 13],\n",
       "       [15, 18, 21, 24, 27]], dtype=int32)"
      ]
     },
     "execution_count": 68,
     "metadata": {},
     "output_type": "execute_result"
    }
   ],
   "source": [
    "np.add.accumulate(arr, axis=0)"
   ]
  },
  {
   "cell_type": "code",
   "execution_count": 69,
   "metadata": {},
   "outputs": [
    {
     "data": {
      "text/plain": [
       "array([[ 0,  1,  2,  3,  4],\n",
       "       [ 5,  7,  9, 11, 13],\n",
       "       [15, 18, 21, 24, 27]], dtype=int32)"
      ]
     },
     "execution_count": 69,
     "metadata": {},
     "output_type": "execute_result"
    }
   ],
   "source": [
    "np.add.accumulate(arr)"
   ]
  },
  {
   "cell_type": "code",
   "execution_count": 70,
   "metadata": {},
   "outputs": [
    {
     "data": {
      "text/plain": [
       "array([0, 1, 1, 2, 2])"
      ]
     },
     "execution_count": 70,
     "metadata": {},
     "output_type": "execute_result"
    }
   ],
   "source": [
    "# outer performs a pairwise cross-product between two arrays:\n",
    "\n",
    "\n",
    "arr = np.arange(3).repeat([1, 2, 2])\n",
    "\n",
    "arr"
   ]
  },
  {
   "cell_type": "code",
   "execution_count": 71,
   "metadata": {},
   "outputs": [
    {
     "data": {
      "text/plain": [
       "array([[0, 0, 0, 0, 0],\n",
       "       [0, 1, 2, 3, 4],\n",
       "       [0, 1, 2, 3, 4],\n",
       "       [0, 2, 4, 6, 8],\n",
       "       [0, 2, 4, 6, 8]])"
      ]
     },
     "execution_count": 71,
     "metadata": {},
     "output_type": "execute_result"
    }
   ],
   "source": [
    "np.multiply.outer(arr, np.arange(5))"
   ]
  },
  {
   "cell_type": "code",
   "execution_count": 74,
   "metadata": {},
   "outputs": [
    {
     "data": {
      "text/plain": [
       "array([[ 0.73289771,  0.50470465, -0.7892592 ,  0.5391877 ],\n",
       "       [ 1.29070685,  0.86761856,  0.41133011,  0.44593599],\n",
       "       [-0.3171888 , -1.04929141,  1.34589315,  0.35600969]])"
      ]
     },
     "execution_count": 74,
     "metadata": {},
     "output_type": "execute_result"
    }
   ],
   "source": [
    "#The output of outer will have a dimension that is the sum of the dimensions of the inputs:\n",
    "\n",
    "\n",
    "x, y = np.random.randn(3, 4), np.random.randn(5)\n",
    "\n",
    "x"
   ]
  },
  {
   "cell_type": "code",
   "execution_count": 75,
   "metadata": {},
   "outputs": [
    {
     "data": {
      "text/plain": [
       "array([-0.09152874, -0.53496417, -0.03601325, -0.25911386, -0.19944861])"
      ]
     },
     "execution_count": 75,
     "metadata": {},
     "output_type": "execute_result"
    }
   ],
   "source": [
    "y"
   ]
  },
  {
   "cell_type": "code",
   "execution_count": 76,
   "metadata": {},
   "outputs": [
    {
     "data": {
      "text/plain": [
       "(array([[ 0.73289771,  0.50470465, -0.7892592 ,  0.5391877 ],\n",
       "        [ 1.29070685,  0.86761856,  0.41133011,  0.44593599],\n",
       "        [-0.3171888 , -1.04929141,  1.34589315,  0.35600969]]),\n",
       " array([-0.09152874, -0.53496417, -0.03601325, -0.25911386, -0.19944861]))"
      ]
     },
     "execution_count": 76,
     "metadata": {},
     "output_type": "execute_result"
    }
   ],
   "source": [
    "x, y"
   ]
  },
  {
   "cell_type": "code",
   "execution_count": 78,
   "metadata": {},
   "outputs": [
    {
     "data": {
      "text/plain": [
       "array([[[ 0.82442645,  1.26786188,  0.76891096,  0.99201157,\n",
       "          0.93234632],\n",
       "        [ 0.59623339,  1.03966882,  0.5407179 ,  0.76381851,\n",
       "          0.70415326],\n",
       "        [-0.69773046, -0.25429503, -0.75324595, -0.53014534,\n",
       "         -0.58981059],\n",
       "        [ 0.63071644,  1.07415187,  0.57520095,  0.79830156,\n",
       "          0.7386363 ]],\n",
       "\n",
       "       [[ 1.38223559,  1.82567102,  1.3267201 ,  1.5498207 ,\n",
       "          1.49015545],\n",
       "        [ 0.95914729,  1.40258272,  0.9036318 ,  1.12673241,\n",
       "          1.06706716],\n",
       "        [ 0.50285885,  0.94629427,  0.44734335,  0.67044396,\n",
       "          0.61077871],\n",
       "        [ 0.53746473,  0.98090016,  0.48194924,  0.70504985,\n",
       "          0.6453846 ]],\n",
       "\n",
       "       [[-0.22566006,  0.21777537, -0.28117555, -0.05807494,\n",
       "         -0.11774019],\n",
       "        [-0.95776267, -0.51432725, -1.01327817, -0.79017756,\n",
       "         -0.84984281],\n",
       "        [ 1.43742189,  1.88085732,  1.3819064 ,  1.60500701,\n",
       "          1.54534175],\n",
       "        [ 0.44753843,  0.89097386,  0.39202294,  0.61512355,\n",
       "          0.5554583 ]]])"
      ]
     },
     "execution_count": 78,
     "metadata": {},
     "output_type": "execute_result"
    }
   ],
   "source": [
    "result = np.subtract.outer(x, y)\n",
    "\n",
    "result"
   ]
  },
  {
   "cell_type": "code",
   "execution_count": 79,
   "metadata": {},
   "outputs": [
    {
     "data": {
      "text/plain": [
       "(3, 4, 5)"
      ]
     },
     "execution_count": 79,
     "metadata": {},
     "output_type": "execute_result"
    }
   ],
   "source": [
    "result.shape"
   ]
  },
  {
   "cell_type": "code",
   "execution_count": 80,
   "metadata": {},
   "outputs": [
    {
     "data": {
      "text/plain": [
       "array([0, 1, 2, 3, 4, 5, 6, 7, 8, 9])"
      ]
     },
     "execution_count": 80,
     "metadata": {},
     "output_type": "execute_result"
    }
   ],
   "source": [
    "# The last method, reduceat, performs a “local reduce,” in essence an array groupby operation \n",
    "    # in which slices of the array are aggregated together. \n",
    "    # It accepts a sequence of “bin edges” that indicate how to split and aggregate the values:\n",
    "\n",
    "\n",
    "arr = np.arange(10)\n",
    "\n",
    "arr"
   ]
  },
  {
   "cell_type": "code",
   "execution_count": 81,
   "metadata": {},
   "outputs": [
    {
     "data": {
      "text/plain": [
       "array([10, 18, 17], dtype=int32)"
      ]
     },
     "execution_count": 81,
     "metadata": {},
     "output_type": "execute_result"
    }
   ],
   "source": [
    "np.add.reduceat(arr, [0, 5, 8])"
   ]
  },
  {
   "cell_type": "code",
   "execution_count": 82,
   "metadata": {},
   "outputs": [
    {
     "data": {
      "text/plain": [
       "array([[ 0,  0,  0,  0,  0],\n",
       "       [ 0,  1,  2,  3,  4],\n",
       "       [ 0,  2,  4,  6,  8],\n",
       "       [ 0,  3,  6,  9, 12]])"
      ]
     },
     "execution_count": 82,
     "metadata": {},
     "output_type": "execute_result"
    }
   ],
   "source": [
    "# The results are the reductions (here, sums) performed over arr[0:5], arr[5:8], and arr[8:].\n",
    "    # As with the other methods, you can pass an axis argument:\n",
    "\n",
    "    \n",
    "arr = np.multiply.outer(np.arange(4), np.arange(5))\n",
    "\n",
    "arr"
   ]
  },
  {
   "cell_type": "code",
   "execution_count": 90,
   "metadata": {},
   "outputs": [
    {
     "data": {
      "text/plain": [
       "array([[ 0,  0,  0],\n",
       "       [ 1,  5,  4],\n",
       "       [ 2, 10,  8],\n",
       "       [ 3, 15, 12]], dtype=int32)"
      ]
     },
     "execution_count": 90,
     "metadata": {},
     "output_type": "execute_result"
    }
   ],
   "source": [
    "np.add.reduceat(arr, [0, 2, 4], axis=1)"
   ]
  },
  {
   "cell_type": "code",
   "execution_count": 95,
   "metadata": {},
   "outputs": [],
   "source": [
    "# Writing New ufuncs in Python\n",
    "\n",
    "# There are a number of facilities for creating your own NumPy ufuncs.\n",
    "    # The most general is to use the NumPy C API, but let's look at pure Python ufuncs.\n",
    "\n",
    "# numpy.frompyfunc accepts a Python function along with a specification for the number of inputs and outputs.\n",
    "    # For example, a simple function that adds element-wise would be specified as:\n",
    "    \n",
    "    \n",
    "def add_elements(x, y):\n",
    "    return x + y"
   ]
  },
  {
   "cell_type": "code",
   "execution_count": 97,
   "metadata": {},
   "outputs": [
    {
     "data": {
      "text/plain": [
       "<ufunc '? (vectorized)'>"
      ]
     },
     "execution_count": 97,
     "metadata": {},
     "output_type": "execute_result"
    }
   ],
   "source": [
    "add_them = np.frompyfunc(add_elements, 2, 1)\n",
    "\n",
    "add_them"
   ]
  },
  {
   "cell_type": "code",
   "execution_count": 98,
   "metadata": {},
   "outputs": [
    {
     "data": {
      "text/plain": [
       "array([0, 2, 4, 6, 8, 10, 12, 14], dtype=object)"
      ]
     },
     "execution_count": 98,
     "metadata": {},
     "output_type": "execute_result"
    }
   ],
   "source": [
    "add_them(np.arange(8), np.arange(8))"
   ]
  },
  {
   "cell_type": "code",
   "execution_count": 100,
   "metadata": {},
   "outputs": [
    {
     "data": {
      "text/plain": [
       "<numpy.vectorize at 0xa010275188>"
      ]
     },
     "execution_count": 100,
     "metadata": {},
     "output_type": "execute_result"
    }
   ],
   "source": [
    "# Functions created using frompyfunc always return arrays of Python objects,\n",
    "    # which can be inconvenient. \n",
    "    # Fortunately, there is an alternative (but slightly less featureful) function, numpy.vectorize,\n",
    "    # that allows you to specify the output type:\n",
    "\n",
    "\n",
    "add_them = np.vectorize(add_elements, otypes=[np.float64])\n",
    "\n",
    "add_them"
   ]
  },
  {
   "cell_type": "code",
   "execution_count": 101,
   "metadata": {},
   "outputs": [
    {
     "data": {
      "text/plain": [
       "array([ 0.,  2.,  4.,  6.,  8., 10., 12., 14.])"
      ]
     },
     "execution_count": 101,
     "metadata": {},
     "output_type": "execute_result"
    }
   ],
   "source": [
    "add_them(np.arange(8), np.arange(8))"
   ]
  },
  {
   "cell_type": "code",
   "execution_count": 109,
   "metadata": {},
   "outputs": [
    {
     "data": {
      "text/plain": [
       "array([ 0.10533048, -0.81101068, -1.14124808, ...,  1.16323222,\n",
       "       -0.80433614,  0.08255916])"
      ]
     },
     "execution_count": 109,
     "metadata": {},
     "output_type": "execute_result"
    }
   ],
   "source": [
    "# These functions provide a way to create ufunc-like functions, \n",
    "    # but they are very slow because they require a Python function call to compute each element,\n",
    "    # which is a lot slower than NumPy’s C-based ufunc loops:\n",
    "    \n",
    "arr = np.random.randn(10000)\n",
    "\n",
    "arr"
   ]
  },
  {
   "cell_type": "code",
   "execution_count": 112,
   "metadata": {},
   "outputs": [
    {
     "name": "stdout",
     "output_type": "stream",
     "text": [
      "5.67 ms ± 723 µs per loop (mean ± std. dev. of 7 runs, 100 loops each)\n"
     ]
    }
   ],
   "source": [
    "%timeit add_them(arr, arr)"
   ]
  },
  {
   "cell_type": "code",
   "execution_count": 113,
   "metadata": {},
   "outputs": [
    {
     "name": "stdout",
     "output_type": "stream",
     "text": [
      "17.9 µs ± 1.05 µs per loop (mean ± std. dev. of 7 runs, 100000 loops each)\n"
     ]
    }
   ],
   "source": [
    "%timeit np.add(arr, arr)"
   ]
  },
  {
   "cell_type": "code",
   "execution_count": 115,
   "metadata": {},
   "outputs": [
    {
     "data": {
      "text/plain": [
       "[('x', numpy.float64), ('y', numpy.int32)]"
      ]
     },
     "execution_count": 115,
     "metadata": {},
     "output_type": "execute_result"
    }
   ],
   "source": [
    "# Structured and Record Arrays\n",
    "\n",
    "# You may have noticed up until now that ndarray is a homogeneous data container;\n",
    "    # that is, it represents a block of memory in which each element takes up the same number of bytes,\n",
    "    # determined by the dtype.\n",
    "    # On the surface, this would appear to not allow you to represent heterogeneous or tabular-like data.\n",
    "    # A structured array is an ndarray in which each element can be thought of as representing a struct in C\n",
    "    # (hence the “structured” name) or a row in a SQL table with multiple named fields:\n",
    "    \n",
    "dtype = [('x', np.float64), ('y', np.int32)]\n",
    "\n",
    "dtype"
   ]
  },
  {
   "cell_type": "code",
   "execution_count": 116,
   "metadata": {},
   "outputs": [
    {
     "data": {
      "text/plain": [
       "array([(1.5       ,  6), (3.14159265, -2)],\n",
       "      dtype=[('x', '<f8'), ('y', '<i4')])"
      ]
     },
     "execution_count": 116,
     "metadata": {},
     "output_type": "execute_result"
    }
   ],
   "source": [
    "sarr = np.array([(1.5, 6), (np.pi, -2)], dtype=dtype)\n",
    "\n",
    "sarr"
   ]
  },
  {
   "cell_type": "code",
   "execution_count": 117,
   "metadata": {},
   "outputs": [
    {
     "data": {
      "text/plain": [
       "(1.5, 6)"
      ]
     },
     "execution_count": 117,
     "metadata": {},
     "output_type": "execute_result"
    }
   ],
   "source": [
    "# There are several ways to specify a structured dtype (see the online NumPy documentation).\n",
    "    # One typical way is as a list of tuples with (field_name, field_data_type).\n",
    "    # Now, the elements of the array are tuple-like objects whose elements can be accessed like a dictionary:\n",
    "\n",
    "    \n",
    "sarr[0]"
   ]
  },
  {
   "cell_type": "code",
   "execution_count": 118,
   "metadata": {},
   "outputs": [
    {
     "data": {
      "text/plain": [
       "6"
      ]
     },
     "execution_count": 118,
     "metadata": {},
     "output_type": "execute_result"
    }
   ],
   "source": [
    "sarr[0]['y']"
   ]
  },
  {
   "cell_type": "code",
   "execution_count": 119,
   "metadata": {},
   "outputs": [
    {
     "data": {
      "text/plain": [
       "array([1.5       , 3.14159265])"
      ]
     },
     "execution_count": 119,
     "metadata": {},
     "output_type": "execute_result"
    }
   ],
   "source": [
    "# The field names are stored in the dtype.names attribute. \n",
    "    # When you access a field on the structured array, a strided view on the data is returned,\n",
    "    # thus copying nothing:\n",
    "\n",
    "\n",
    "sarr['x']"
   ]
  },
  {
   "cell_type": "code",
   "execution_count": 120,
   "metadata": {},
   "outputs": [
    {
     "data": {
      "text/plain": [
       "[('x', numpy.int64, 3), ('y', numpy.int32)]"
      ]
     },
     "execution_count": 120,
     "metadata": {},
     "output_type": "execute_result"
    }
   ],
   "source": [
    "# Nested dtypes and Multidimensional Fields\n",
    "\n",
    "# When specifying a structured dtype, you can additionally pass a shape (as an int or tuple):\n",
    "\n",
    "\n",
    "dtype = [('x', np.int64, 3), ('y', np.int32)]\n",
    "\n",
    "dtype"
   ]
  },
  {
   "cell_type": "code",
   "execution_count": 123,
   "metadata": {},
   "outputs": [
    {
     "data": {
      "text/plain": [
       "array([([0, 0, 0], 0), ([0, 0, 0], 0), ([0, 0, 0], 0), ([0, 0, 0], 0)],\n",
       "      dtype=[('x', '<i8', (3,)), ('y', '<i4')])"
      ]
     },
     "execution_count": 123,
     "metadata": {},
     "output_type": "execute_result"
    }
   ],
   "source": [
    "arr = np.zeros(4, dtype=dtype)\n",
    "\n",
    "arr"
   ]
  },
  {
   "cell_type": "code",
   "execution_count": 124,
   "metadata": {},
   "outputs": [
    {
     "data": {
      "text/plain": [
       "array([0, 0, 0], dtype=int64)"
      ]
     },
     "execution_count": 124,
     "metadata": {},
     "output_type": "execute_result"
    }
   ],
   "source": [
    "# In this case, the x field now refers to an array of length 3 for each record:\n",
    "\n",
    "\n",
    "arr[0]['x']"
   ]
  },
  {
   "cell_type": "code",
   "execution_count": 128,
   "metadata": {},
   "outputs": [
    {
     "data": {
      "text/plain": [
       "array([[0, 0, 0],\n",
       "       [0, 0, 0],\n",
       "       [0, 0, 0],\n",
       "       [0, 0, 0]], dtype=int64)"
      ]
     },
     "execution_count": 128,
     "metadata": {},
     "output_type": "execute_result"
    }
   ],
   "source": [
    "# Conveniently, accessing arr['x'] then returns a two-dimensional array \n",
    "    # instead of a one-dimensional array as in prior examples:\n",
    "\n",
    "\n",
    "arr['x']"
   ]
  },
  {
   "cell_type": "code",
   "execution_count": 130,
   "metadata": {},
   "outputs": [
    {
     "data": {
      "text/plain": [
       "[('x', [('a', 'f8'), ('b', 'f4')]), ('y', numpy.int32)]"
      ]
     },
     "execution_count": 130,
     "metadata": {},
     "output_type": "execute_result"
    }
   ],
   "source": [
    "# This enables you to express more complicated, nested structures as a single block of memory in an array.\n",
    "    # You can also nest dtypes to make more complex structures.\n",
    "    # Here is an example:\n",
    "\n",
    "\n",
    "dtype = [('x', [('a', 'f8'), ('b', 'f4')]), ('y', np.int32)]\n",
    "\n",
    "dtype"
   ]
  },
  {
   "cell_type": "code",
   "execution_count": 131,
   "metadata": {},
   "outputs": [
    {
     "data": {
      "text/plain": [
       "array([(1., 2.), (3., 4.)], dtype=[('a', '<f8'), ('b', '<f4')])"
      ]
     },
     "execution_count": 131,
     "metadata": {},
     "output_type": "execute_result"
    }
   ],
   "source": [
    "data = np.array([((1, 2), 5), ((3, 4), 6)], dtype=dtype)\n",
    "\n",
    "data['x']"
   ]
  },
  {
   "cell_type": "code",
   "execution_count": 132,
   "metadata": {},
   "outputs": [
    {
     "data": {
      "text/plain": [
       "array([5, 6])"
      ]
     },
     "execution_count": 132,
     "metadata": {},
     "output_type": "execute_result"
    }
   ],
   "source": [
    "data['y']"
   ]
  },
  {
   "cell_type": "code",
   "execution_count": 133,
   "metadata": {},
   "outputs": [
    {
     "data": {
      "text/plain": [
       "array([1., 3.])"
      ]
     },
     "execution_count": 133,
     "metadata": {},
     "output_type": "execute_result"
    }
   ],
   "source": [
    "data['x']['a']"
   ]
  },
  {
   "cell_type": "code",
   "execution_count": null,
   "metadata": {},
   "outputs": [],
   "source": [
    "# pandas DataFrame does not support this feature directly, though it is similar to hierarchical indexing."
   ]
  },
  {
   "cell_type": "code",
   "execution_count": null,
   "metadata": {},
   "outputs": [],
   "source": [
    "# Why Use Structured Arrays?\n",
    "\n",
    "# Compared with, say, a pandas DataFrame, NumPy structured arrays are a comparatively low-level tool.\n",
    "    # They provide a means to interpreting a block of memory as a tabular structure \n",
    "    # with arbitrarily complex nested columns. \n",
    "    # Since each element in the array is represented in memory as a fixed number of bytes,\n",
    "    # structured arrays providea very fast and efficient way of writing data to \n",
    "    # and from disk (including memory maps), transporting it over the network, and other such uses.\n",
    "\n",
    "# As another common use for structured arrays, writing data files as fixed-length\n",
    "    # record byte streams is a common way to serialize data in C and C++ code, \n",
    "    # which is commonly found in legacy systems in industry. \n",
    "    # As long as the format of the file is known \n",
    "    # (the size of each record and the order, byte size, and data type of each element),\n",
    "    # the data can be read into memory with np.fromfile."
   ]
  },
  {
   "cell_type": "code",
   "execution_count": 135,
   "metadata": {},
   "outputs": [
    {
     "data": {
      "text/plain": [
       "array([-1.4199867 , -0.04596205,  1.27691904,  1.86071261, -0.31313357,\n",
       "       -0.22521732])"
      ]
     },
     "execution_count": 135,
     "metadata": {},
     "output_type": "execute_result"
    }
   ],
   "source": [
    "# More About Sorting\n",
    "\n",
    "# Like Python’s built-in list, the ndarray sort instance method is an in-place sort,\n",
    "    # meaning that the array contents are rearranged without producing a new array:\n",
    "    \n",
    "    \n",
    "arr = np.random.randn(6)\n",
    "\n",
    "arr"
   ]
  },
  {
   "cell_type": "code",
   "execution_count": 142,
   "metadata": {},
   "outputs": [
    {
     "data": {
      "text/plain": [
       "array([[-0.28487369, -0.41144101, -0.39848164, -0.85722451,  0.04447328],\n",
       "       [-1.92493444, -0.18016988, -0.61207016, -0.02848961, -0.00939751],\n",
       "       [ 1.16893736,  0.34476488,  0.8829256 , -1.63350964, -0.05559684]])"
      ]
     },
     "execution_count": 142,
     "metadata": {},
     "output_type": "execute_result"
    }
   ],
   "source": [
    "# When sorting arrays in-place, remember that if the array is a view on a different ndarray,\n",
    "    # the original array will be modified:\n",
    "\n",
    "\n",
    "arr = np.random.randn(3, 5)\n",
    "\n",
    "arr"
   ]
  },
  {
   "cell_type": "code",
   "execution_count": 146,
   "metadata": {},
   "outputs": [
    {
     "data": {
      "text/plain": [
       "array([[-1.92493444, -0.41144101, -0.39848164, -0.85722451,  0.04447328],\n",
       "       [-0.28487369, -0.18016988, -0.61207016, -0.02848961, -0.00939751],\n",
       "       [ 1.16893736,  0.34476488,  0.8829256 , -1.63350964, -0.05559684]])"
      ]
     },
     "execution_count": 146,
     "metadata": {},
     "output_type": "execute_result"
    }
   ],
   "source": [
    "arr[:, 0].sort() # Sort first column values in-place\n",
    "\n",
    "arr"
   ]
  },
  {
   "cell_type": "code",
   "execution_count": 147,
   "metadata": {},
   "outputs": [
    {
     "data": {
      "text/plain": [
       "array([ 0.23207772,  0.94006741, -0.1233083 ,  0.43651008, -1.0445751 ])"
      ]
     },
     "execution_count": 147,
     "metadata": {},
     "output_type": "execute_result"
    }
   ],
   "source": [
    "# On the other hand, numpy.sort creates a new, sorted copy of an array. \n",
    "    # Otherwise, it accepts the same arguments (such as kind) as ndarray.sort:\n",
    "\n",
    "\n",
    "arr = np.random.randn(5)\n",
    "\n",
    "arr"
   ]
  },
  {
   "cell_type": "code",
   "execution_count": 148,
   "metadata": {},
   "outputs": [
    {
     "data": {
      "text/plain": [
       "array([-1.0445751 , -0.1233083 ,  0.23207772,  0.43651008,  0.94006741])"
      ]
     },
     "execution_count": 148,
     "metadata": {},
     "output_type": "execute_result"
    }
   ],
   "source": [
    "np.sort(arr)"
   ]
  },
  {
   "cell_type": "code",
   "execution_count": 149,
   "metadata": {},
   "outputs": [
    {
     "data": {
      "text/plain": [
       "array([ 0.23207772,  0.94006741, -0.1233083 ,  0.43651008, -1.0445751 ])"
      ]
     },
     "execution_count": 149,
     "metadata": {},
     "output_type": "execute_result"
    }
   ],
   "source": [
    "arr"
   ]
  },
  {
   "cell_type": "code",
   "execution_count": 150,
   "metadata": {},
   "outputs": [
    {
     "data": {
      "text/plain": [
       "array([[ 0.37039574, -0.09319317,  0.15047656,  0.60120384,  0.2195671 ],\n",
       "       [-2.01196694, -0.69332216, -0.24604222, -1.00853706,  0.52522324],\n",
       "       [-2.70506475,  1.24593288,  0.75426158,  0.77936106,  0.96449794]])"
      ]
     },
     "execution_count": 150,
     "metadata": {},
     "output_type": "execute_result"
    }
   ],
   "source": [
    "# All of these sort methods take an axis argument for sorting the sections of data \n",
    "    # along the passed axis independently:\n",
    "    \n",
    "    \n",
    "arr = np.random.randn(3, 5)\n",
    "\n",
    "arr"
   ]
  },
  {
   "cell_type": "code",
   "execution_count": 152,
   "metadata": {},
   "outputs": [
    {
     "data": {
      "text/plain": [
       "array([[-0.09319317,  0.15047656,  0.2195671 ,  0.37039574,  0.60120384],\n",
       "       [-2.01196694, -1.00853706, -0.69332216, -0.24604222,  0.52522324],\n",
       "       [-2.70506475,  0.75426158,  0.77936106,  0.96449794,  1.24593288]])"
      ]
     },
     "execution_count": 152,
     "metadata": {},
     "output_type": "execute_result"
    }
   ],
   "source": [
    "arr.sort(axis=1)\n",
    "\n",
    "arr"
   ]
  },
  {
   "cell_type": "code",
   "execution_count": 153,
   "metadata": {},
   "outputs": [
    {
     "data": {
      "text/plain": [
       "array([[-2.70506475, -1.00853706, -0.69332216, -0.24604222,  0.52522324],\n",
       "       [-2.01196694,  0.15047656,  0.2195671 ,  0.37039574,  0.60120384],\n",
       "       [-0.09319317,  0.75426158,  0.77936106,  0.96449794,  1.24593288]])"
      ]
     },
     "execution_count": 153,
     "metadata": {},
     "output_type": "execute_result"
    }
   ],
   "source": [
    "arr.sort(axis=0)\n",
    "\n",
    "arr"
   ]
  },
  {
   "cell_type": "code",
   "execution_count": 154,
   "metadata": {},
   "outputs": [
    {
     "data": {
      "text/plain": [
       "array([[ 0.52522324, -0.24604222, -0.69332216, -1.00853706, -2.70506475],\n",
       "       [ 0.60120384,  0.37039574,  0.2195671 ,  0.15047656, -2.01196694],\n",
       "       [ 1.24593288,  0.96449794,  0.77936106,  0.75426158, -0.09319317]])"
      ]
     },
     "execution_count": 154,
     "metadata": {},
     "output_type": "execute_result"
    }
   ],
   "source": [
    "# You may notice that none of the sort methods have an option to sort in descending order.\n",
    "    # This is a problem in practice because array slicing produces views,\n",
    "    # thus not producing a copy or requiring any computational work.\n",
    "    # Many Python users are familiar with the “trick” that for a list values,\n",
    "    # values[::-1] returns a list in reverse order.\n",
    "    # The same is true for ndarrays:\n",
    "\n",
    "\n",
    "arr[:, ::-1]"
   ]
  },
  {
   "cell_type": "code",
   "execution_count": 156,
   "metadata": {},
   "outputs": [
    {
     "data": {
      "text/plain": [
       "array([5, 0, 1, 3, 2])"
      ]
     },
     "execution_count": 156,
     "metadata": {},
     "output_type": "execute_result"
    }
   ],
   "source": [
    "# Indirect Sorts: argsort and lexsort\n",
    "\n",
    "# In data analysis you may need to reorder datasets by one or more keys.\n",
    "    # For example, a table of data about some students might need to be sorted by last name,\n",
    "    # then by first name.\n",
    "    # This is an example of an indirect sort, and if you’ve read the pandas-related books\n",
    "    # you must have already seen many higher-level examples. \n",
    "    # Given a key or keys (an array of values or multiple arrays of values), \n",
    "    # you wish to obtain an array of integer indices (I refer to them colloquially as indexers)\n",
    "    # that tells you how to reorder the data to be in sorted order.\n",
    "    # Two methods for this are argsort and numpy.lexsort.\n",
    "    # As an example:\n",
    "\n",
    "    \n",
    "values = np.array([5, 0, 1, 3, 2])\n",
    "\n",
    "values"
   ]
  },
  {
   "cell_type": "code",
   "execution_count": 158,
   "metadata": {},
   "outputs": [
    {
     "data": {
      "text/plain": [
       "array([1, 2, 4, 3, 0], dtype=int64)"
      ]
     },
     "execution_count": 158,
     "metadata": {},
     "output_type": "execute_result"
    }
   ],
   "source": [
    "indexer = values.argsort()\n",
    "\n",
    "indexer"
   ]
  },
  {
   "cell_type": "code",
   "execution_count": 159,
   "metadata": {},
   "outputs": [
    {
     "data": {
      "text/plain": [
       "array([0, 1, 2, 3, 5])"
      ]
     },
     "execution_count": 159,
     "metadata": {},
     "output_type": "execute_result"
    }
   ],
   "source": [
    "values[indexer]"
   ]
  },
  {
   "cell_type": "code",
   "execution_count": 160,
   "metadata": {},
   "outputs": [
    {
     "data": {
      "text/plain": [
       "array([[ 0.97544999,  1.63128663, -0.54927156, -0.3058123 ,  0.29766513],\n",
       "       [ 0.45944142,  1.36198492,  0.49668379, -0.49842716, -0.39958665],\n",
       "       [-1.2787087 ,  0.81086645, -0.13821823,  0.48103853, -0.44511099]])"
      ]
     },
     "execution_count": 160,
     "metadata": {},
     "output_type": "execute_result"
    }
   ],
   "source": [
    "# As a more complicated example, this code reorders a two-dimensional array by its first row:\n",
    "\n",
    "\n",
    "arr = np.random.randn(3, 5)\n",
    "\n",
    "arr"
   ]
  },
  {
   "cell_type": "code",
   "execution_count": 161,
   "metadata": {},
   "outputs": [],
   "source": [
    "arr[0] = values"
   ]
  },
  {
   "cell_type": "code",
   "execution_count": 162,
   "metadata": {},
   "outputs": [
    {
     "data": {
      "text/plain": [
       "array([[ 5.        ,  0.        ,  1.        ,  3.        ,  2.        ],\n",
       "       [ 0.45944142,  1.36198492,  0.49668379, -0.49842716, -0.39958665],\n",
       "       [-1.2787087 ,  0.81086645, -0.13821823,  0.48103853, -0.44511099]])"
      ]
     },
     "execution_count": 162,
     "metadata": {},
     "output_type": "execute_result"
    }
   ],
   "source": [
    "arr"
   ]
  },
  {
   "cell_type": "code",
   "execution_count": 163,
   "metadata": {},
   "outputs": [
    {
     "data": {
      "text/plain": [
       "array([[ 0.        ,  1.        ,  2.        ,  3.        ,  5.        ],\n",
       "       [ 1.36198492,  0.49668379, -0.39958665, -0.49842716,  0.45944142],\n",
       "       [ 0.81086645, -0.13821823, -0.44511099,  0.48103853, -1.2787087 ]])"
      ]
     },
     "execution_count": 163,
     "metadata": {},
     "output_type": "execute_result"
    }
   ],
   "source": [
    "arr[:, arr[0].argsort()]"
   ]
  },
  {
   "cell_type": "code",
   "execution_count": 165,
   "metadata": {},
   "outputs": [
    {
     "data": {
      "text/plain": [
       "array(['Bob', 'Jane', 'Steve', 'Bill', 'Barbara'], dtype='<U7')"
      ]
     },
     "execution_count": 165,
     "metadata": {},
     "output_type": "execute_result"
    }
   ],
   "source": [
    "# lexsort is similar to argsort, but it performs an indirect lexicographical sort on multiple key arrays.\n",
    "    # Suppose we wanted to sort some data identified by first and last names:\n",
    "\n",
    "    \n",
    "first_name = np.array(['Bob', 'Jane', 'Steve', 'Bill', 'Barbara'])\n",
    "\n",
    "first_name"
   ]
  },
  {
   "cell_type": "code",
   "execution_count": 166,
   "metadata": {},
   "outputs": [
    {
     "data": {
      "text/plain": [
       "array(['Jones', 'Arnold', 'Arnold', 'Jones', 'Walters'], dtype='<U7')"
      ]
     },
     "execution_count": 166,
     "metadata": {},
     "output_type": "execute_result"
    }
   ],
   "source": [
    "last_name = np.array(['Jones', 'Arnold', 'Arnold', 'Jones', 'Walters'])\n",
    "\n",
    "last_name"
   ]
  },
  {
   "cell_type": "code",
   "execution_count": 167,
   "metadata": {},
   "outputs": [
    {
     "data": {
      "text/plain": [
       "array([1, 2, 3, 0, 4], dtype=int64)"
      ]
     },
     "execution_count": 167,
     "metadata": {},
     "output_type": "execute_result"
    }
   ],
   "source": [
    "sorter = np.lexsort((first_name, last_name))\n",
    "\n",
    "sorter"
   ]
  },
  {
   "cell_type": "code",
   "execution_count": 168,
   "metadata": {},
   "outputs": [
    {
     "data": {
      "text/plain": [
       "<zip at 0xa01026aac8>"
      ]
     },
     "execution_count": 168,
     "metadata": {},
     "output_type": "execute_result"
    }
   ],
   "source": [
    "zip(last_name[sorter], first_name[sorter])"
   ]
  },
  {
   "cell_type": "code",
   "execution_count": null,
   "metadata": {},
   "outputs": [],
   "source": [
    "# lexsort can be a bit confusing the first time you use it because the order in which the\n",
    "    # keys are used to order the data starts with the last array passed.\n",
    "    # Above, last_name was used before first_name.\n",
    "\n",
    "\n",
    "# pandas methods like Series’s and DataFrame’s sort_values method are implemented with variants \n",
    "    # of these functions (which also must take into account missing values)."
   ]
  },
  {
   "cell_type": "code",
   "execution_count": 170,
   "metadata": {},
   "outputs": [
    {
     "data": {
      "text/plain": [
       "array(['2:first', '2:second', '1:first', '1:second', '1:third'],\n",
       "      dtype='<U8')"
      ]
     },
     "execution_count": 170,
     "metadata": {},
     "output_type": "execute_result"
    }
   ],
   "source": [
    "# Alternative Sort Algorithms\n",
    "\n",
    "# A stable sorting algorithm preserves the relative position of equal elements.\n",
    "    # This can be especially important in indirect sorts where the relative ordering is meaningful:\n",
    "\n",
    "    \n",
    "values = np.array(['2:first', '2:second', '1:first', '1:second', '1:third'])\n",
    "\n",
    "values"
   ]
  },
  {
   "cell_type": "code",
   "execution_count": 171,
   "metadata": {},
   "outputs": [
    {
     "data": {
      "text/plain": [
       "array([2, 2, 1, 1, 1])"
      ]
     },
     "execution_count": 171,
     "metadata": {},
     "output_type": "execute_result"
    }
   ],
   "source": [
    "key = np.array([2, 2, 1, 1, 1])\n",
    "\n",
    "key"
   ]
  },
  {
   "cell_type": "code",
   "execution_count": 172,
   "metadata": {},
   "outputs": [
    {
     "data": {
      "text/plain": [
       "array([2, 3, 4, 0, 1], dtype=int64)"
      ]
     },
     "execution_count": 172,
     "metadata": {},
     "output_type": "execute_result"
    }
   ],
   "source": [
    "indexer = key.argsort(kind='mergesort')\n",
    "\n",
    "indexer"
   ]
  },
  {
   "cell_type": "code",
   "execution_count": 173,
   "metadata": {},
   "outputs": [
    {
     "data": {
      "text/plain": [
       "array(['1:first', '1:second', '1:third', '2:first', '2:second'],\n",
       "      dtype='<U8')"
      ]
     },
     "execution_count": 173,
     "metadata": {},
     "output_type": "execute_result"
    }
   ],
   "source": [
    "values.take(indexer)"
   ]
  },
  {
   "cell_type": "code",
   "execution_count": null,
   "metadata": {},
   "outputs": [],
   "source": [
    "# The only stable sort available is mergesort, which has guaranteed O(n log n) performance \n",
    "    # (for complexity buffs), but its performance is on average worse than the default quicksort method. \n",
    "    # This is not something that most users will ever have to think about,\n",
    "    # but it’s useful to know that it’s there.\n",
    "    \n",
    "# A summary of available array sorting methods and their relative performance (and performance guarantees):\n",
    "\n",
    "\n",
    "#                Kind             Speed    Stable    Work space     Worst case\n",
    "#                'quicksort'      1        No        0              O(n^2)\n",
    "#                'mergesort'      2        Yes       n / 2          O(n log n)\n",
    "#                'heapsort'       3        No        0              O(n log n)"
   ]
  },
  {
   "cell_type": "code",
   "execution_count": 175,
   "metadata": {},
   "outputs": [
    {
     "data": {
      "text/plain": [
       "array([-0.20470766,  0.47894334, -0.51943872, -0.5557303 ,  1.96578057,\n",
       "        1.39340583,  0.09290788,  0.28174615,  0.76902257,  1.24643474,\n",
       "        1.00718936, -1.29622111,  0.27499163,  0.22891288,  1.35291684,\n",
       "        0.88642934, -2.00163731, -0.37184254,  1.66902531, -0.43856974])"
      ]
     },
     "execution_count": 175,
     "metadata": {},
     "output_type": "execute_result"
    }
   ],
   "source": [
    "# Partially Sorting Arrays\n",
    "\n",
    "# One of the goals of sorting can be to determine the largest or smallest elements in an array.\n",
    "    # NumPy has optimized methods, numpy.partition and np.argpartition, \n",
    "    # for partitioning an array around the k-th smallest element:\n",
    "\n",
    "    \n",
    "np.random.seed(12345)\n",
    "\n",
    "arr = np.random.randn(20)\n",
    "\n",
    "arr"
   ]
  },
  {
   "cell_type": "code",
   "execution_count": 177,
   "metadata": {},
   "outputs": [
    {
     "data": {
      "text/plain": [
       "array([-2.00163731, -1.29622111, -0.5557303 , -0.51943872, -0.37184254,\n",
       "       -0.43856974, -0.20470766,  0.28174615,  0.76902257,  0.47894334,\n",
       "        1.00718936,  0.09290788,  0.27499163,  0.22891288,  1.35291684,\n",
       "        0.88642934,  1.39340583,  1.96578057,  1.66902531,  1.24643474])"
      ]
     },
     "execution_count": 177,
     "metadata": {},
     "output_type": "execute_result"
    }
   ],
   "source": [
    "np.partition(arr, 3)"
   ]
  },
  {
   "cell_type": "code",
   "execution_count": 178,
   "metadata": {},
   "outputs": [
    {
     "data": {
      "text/plain": [
       "array([16, 11,  3,  2, 17, 19,  0,  7,  8,  1, 10,  6, 12, 13, 14, 15,  5,\n",
       "        4, 18,  9], dtype=int64)"
      ]
     },
     "execution_count": 178,
     "metadata": {},
     "output_type": "execute_result"
    }
   ],
   "source": [
    "# After you call partition(arr, 3), the first three elements in the result are the smallest three values\n",
    "    # in no particular order. \n",
    "    # numpy.argpartition, similar to numpy.argsort, returns the indices that rearrange the data \n",
    "    # into the equivalent order:\n",
    "\n",
    "\n",
    "indices = np.argpartition(arr, 3)\n",
    "\n",
    "indices"
   ]
  },
  {
   "cell_type": "code",
   "execution_count": 179,
   "metadata": {},
   "outputs": [
    {
     "data": {
      "text/plain": [
       "array([-2.00163731, -1.29622111, -0.5557303 , -0.51943872, -0.37184254,\n",
       "       -0.43856974, -0.20470766,  0.28174615,  0.76902257,  0.47894334,\n",
       "        1.00718936,  0.09290788,  0.27499163,  0.22891288,  1.35291684,\n",
       "        0.88642934,  1.39340583,  1.96578057,  1.66902531,  1.24643474])"
      ]
     },
     "execution_count": 179,
     "metadata": {},
     "output_type": "execute_result"
    }
   ],
   "source": [
    "arr.take(indices)"
   ]
  },
  {
   "cell_type": "code",
   "execution_count": 181,
   "metadata": {},
   "outputs": [
    {
     "data": {
      "text/plain": [
       "array([ 0,  1,  7, 12, 15])"
      ]
     },
     "execution_count": 181,
     "metadata": {},
     "output_type": "execute_result"
    }
   ],
   "source": [
    "# numpy.searchsorted: Finding Elements in a Sorted Array\n",
    "\n",
    "#  searchsorted is an array method that performs a binary search on a sorted array, \n",
    "    # returning the location in the array where the value would need to be inserted to maintain sortedness:\n",
    "    \n",
    "\n",
    "arr = np.array([0, 1, 7, 12, 15])\n",
    "\n",
    "arr"
   ]
  },
  {
   "cell_type": "code",
   "execution_count": 182,
   "metadata": {},
   "outputs": [
    {
     "data": {
      "text/plain": [
       "3"
      ]
     },
     "execution_count": 182,
     "metadata": {},
     "output_type": "execute_result"
    }
   ],
   "source": [
    "arr.searchsorted(9)"
   ]
  },
  {
   "cell_type": "code",
   "execution_count": 183,
   "metadata": {},
   "outputs": [
    {
     "data": {
      "text/plain": [
       "array([0, 3, 3, 5], dtype=int64)"
      ]
     },
     "execution_count": 183,
     "metadata": {},
     "output_type": "execute_result"
    }
   ],
   "source": [
    "# You can also pass an array of values to get an array of indices back:\n",
    "\n",
    "\n",
    "arr.searchsorted([0, 8, 11, 16])"
   ]
  },
  {
   "cell_type": "code",
   "execution_count": 184,
   "metadata": {},
   "outputs": [
    {
     "data": {
      "text/plain": [
       "array([0, 0, 0, 1, 1, 1, 1])"
      ]
     },
     "execution_count": 184,
     "metadata": {},
     "output_type": "execute_result"
    }
   ],
   "source": [
    "# You might have noticed that searchsorted returned 0 for the 0 element. \n",
    "    # This is because the default behavior is to return the index at the left side of a group of equal values:\n",
    "\n",
    "    \n",
    "arr = np.array([0, 0, 0, 1, 1, 1, 1])\n",
    "\n",
    "arr"
   ]
  },
  {
   "cell_type": "code",
   "execution_count": 185,
   "metadata": {},
   "outputs": [
    {
     "data": {
      "text/plain": [
       "array([0, 3], dtype=int64)"
      ]
     },
     "execution_count": 185,
     "metadata": {},
     "output_type": "execute_result"
    }
   ],
   "source": [
    "arr.searchsorted([0, 1])"
   ]
  },
  {
   "cell_type": "code",
   "execution_count": 186,
   "metadata": {},
   "outputs": [
    {
     "data": {
      "text/plain": [
       "array([3, 7], dtype=int64)"
      ]
     },
     "execution_count": 186,
     "metadata": {},
     "output_type": "execute_result"
    }
   ],
   "source": [
    "arr.searchsorted([0, 1], side='right')"
   ]
  },
  {
   "cell_type": "code",
   "execution_count": 188,
   "metadata": {},
   "outputs": [
    {
     "data": {
      "text/plain": [
       "array([2449., 7928., 4951., 9150., 9453., 5332., 2524., 7208., 3674.,\n",
       "       4986., 2265., 3535., 6508., 3129., 7687., 7818., 8524., 9499.,\n",
       "       1073., 9107., 3360., 8263., 8981.,  427., 1957., 2945., 6269.,\n",
       "        862., 1429., 5158., 6893., 8566., 6473., 5816., 7111., 2524.,\n",
       "       9001., 4422.,  205., 9596., 6522., 5132., 6823., 4895., 9264.,\n",
       "       5158.,  721., 5675., 6152., 9415.])"
      ]
     },
     "execution_count": 188,
     "metadata": {},
     "output_type": "execute_result"
    }
   ],
   "source": [
    "# As another application of searchsorted, suppose we had an array of values between 0 and 10,000,\n",
    "    # and a separate array of “bucket edges” that we wanted to use to bin the data:\n",
    "\n",
    "\n",
    "data = np.floor(np.random.uniform(0, 10000, size=50))\n",
    "\n",
    "data"
   ]
  },
  {
   "cell_type": "code",
   "execution_count": 189,
   "metadata": {},
   "outputs": [
    {
     "data": {
      "text/plain": [
       "array([    0,   100,  1000,  5000, 10000])"
      ]
     },
     "execution_count": 189,
     "metadata": {},
     "output_type": "execute_result"
    }
   ],
   "source": [
    "bins = np.array([0, 100, 1000, 5000, 10000])\n",
    "\n",
    "bins"
   ]
  },
  {
   "cell_type": "code",
   "execution_count": 191,
   "metadata": {},
   "outputs": [
    {
     "data": {
      "text/plain": [
       "array([3, 4, 3, 4, 4, 4, 3, 4, 3, 3, 3, 3, 4, 3, 4, 4, 4, 4, 3, 4, 3, 4,\n",
       "       4, 2, 3, 3, 4, 2, 3, 4, 4, 4, 4, 4, 4, 3, 4, 3, 2, 4, 4, 4, 4, 3,\n",
       "       4, 4, 2, 4, 4, 4], dtype=int64)"
      ]
     },
     "execution_count": 191,
     "metadata": {},
     "output_type": "execute_result"
    }
   ],
   "source": [
    "#To then get a labeling of which interval each data point belongs to (where 1 would mean the bucket [0, 100)),\n",
    "    # we can simply use searchsorted:\n",
    "\n",
    "    \n",
    "labels = bins.searchsorted(data)\n",
    "\n",
    "labels"
   ]
  },
  {
   "cell_type": "code",
   "execution_count": 194,
   "metadata": {},
   "outputs": [
    {
     "data": {
      "text/plain": [
       "2     553.750000\n",
       "3    3132.375000\n",
       "4    7482.733333\n",
       "dtype: float64"
      ]
     },
     "execution_count": 194,
     "metadata": {},
     "output_type": "execute_result"
    }
   ],
   "source": [
    "# This, combined with pandas’s groupby, can be used to bin data:\n",
    "\n",
    "pd.Series(data).groupby(labels).mean()"
   ]
  },
  {
   "cell_type": "code",
   "execution_count": 217,
   "metadata": {},
   "outputs": [],
   "source": [
    "# Writing Fast NumPy Functions with Numba\n",
    "\n",
    "# Numba is an open source project that creates fast functions for NumPy-like data using CPUs, GPUs,\n",
    "    # or other hardware. It uses the LLVM Project to translate Python code into compiled machine code.\n",
    "\n",
    "# To introduce Numba, let’s consider a pure Python function that computes \n",
    "    # the expression (x - y).mean() using a for loop:\n",
    "\n",
    "    \n",
    "def mean_distance(x, y):\n",
    "    nx = len(x)\n",
    "    result = 0.0\n",
    "    count = 0\n",
    "    for i in range(nx):\n",
    "        result += x[i] - y[i]\n",
    "        count += 1\n",
    "    return result / count"
   ]
  },
  {
   "cell_type": "code",
   "execution_count": 199,
   "metadata": {},
   "outputs": [
    {
     "data": {
      "text/plain": [
       "array([-1.56565729, -0.56254019, -0.03266414, ..., -2.57718168,\n",
       "        0.42536042,  1.37299858])"
      ]
     },
     "execution_count": 199,
     "metadata": {},
     "output_type": "execute_result"
    }
   ],
   "source": [
    "#This function is very slow:\n",
    "\n",
    "\n",
    "x = np.random.randn(10000000)\n",
    "    \n",
    "x"
   ]
  },
  {
   "cell_type": "code",
   "execution_count": 200,
   "metadata": {},
   "outputs": [
    {
     "data": {
      "text/plain": [
       "array([-0.24829772, -0.1873352 , -0.7450831 , ...,  2.10103003,\n",
       "        0.26415342,  0.73032225])"
      ]
     },
     "execution_count": 200,
     "metadata": {},
     "output_type": "execute_result"
    }
   ],
   "source": [
    "y = np.random.randn(10000000)\n",
    "\n",
    "y"
   ]
  },
  {
   "cell_type": "code",
   "execution_count": 203,
   "metadata": {},
   "outputs": [
    {
     "name": "stdout",
     "output_type": "stream",
     "text": [
      "24 s ± 591 ms per loop (mean ± std. dev. of 7 runs, 1 loop each)\n"
     ]
    }
   ],
   "source": [
    "%timeit mean_distance(x, y)"
   ]
  },
  {
   "cell_type": "code",
   "execution_count": 204,
   "metadata": {},
   "outputs": [
    {
     "name": "stdout",
     "output_type": "stream",
     "text": [
      "231 ms ± 42.1 ms per loop (mean ± std. dev. of 7 runs, 1 loop each)\n"
     ]
    }
   ],
   "source": [
    "%timeit (x - y).mean()"
   ]
  },
  {
   "cell_type": "code",
   "execution_count": 218,
   "metadata": {},
   "outputs": [
    {
     "data": {
      "text/plain": [
       "CPUDispatcher(<function mean_distance at 0x000000A01CA935E8>)"
      ]
     },
     "execution_count": 218,
     "metadata": {},
     "output_type": "execute_result"
    }
   ],
   "source": [
    "# The NumPy version is over 100 times faster.\n",
    "    # We can turn this function into a compiled Numba function using the numba.jit function:\n",
    "\n",
    "    \n",
    "import numba as nb\n",
    "\n",
    "numba_mean_distance = nb.jit(mean_distance)\n",
    "\n",
    "numba_mean_distance"
   ]
  },
  {
   "cell_type": "code",
   "execution_count": 219,
   "metadata": {},
   "outputs": [],
   "source": [
    "# We could also have written this as a decorator:\n",
    "\n",
    "\n",
    "@nb.jit\n",
    "def mean_distance(x, y):\n",
    "    nx = len(x)\n",
    "    result = 0.0\n",
    "    count = 0\n",
    "    for i in range(nx):\n",
    "        result += x[i] - y[i]\n",
    "        count += 1\n",
    "    return result / count"
   ]
  },
  {
   "cell_type": "code",
   "execution_count": 223,
   "metadata": {},
   "outputs": [
    {
     "name": "stdout",
     "output_type": "stream",
     "text": [
      "2.04 µs ± 168 ns per loop (mean ± std. dev. of 7 runs, 100000 loops each)\n"
     ]
    }
   ],
   "source": [
    "# The resulting function is actually faster than the vectorized NumPy version:\n",
    "\n",
    "\n",
    "%timeit numba_mean_distance(x, y)"
   ]
  },
  {
   "cell_type": "code",
   "execution_count": 224,
   "metadata": {},
   "outputs": [],
   "source": [
    "# Numba cannot compile arbitrary Python code, but it supports a significant subset of pure Python \n",
    "    # that is most useful for writing numerical algorithms.\n",
    "\n",
    "# Numba is a deep library, supporting different kinds of hardware, modes of compilation, and user extensions.\n",
    "    # It is also able to compile a substantial subset of the NumPy Python API without explicit for loops.\n",
    "    # Numba is able to recognize constructs that can be compiled to machine code, \n",
    "    # while substituting calls to the CPython API for functions that it does not know how to compile.\n",
    "    # Numba’s jit function has an option, nopython=True, which restricts allowed code to Python code that can\n",
    "    # be compiled to LLVM without any Python C API calls. jit(nopython=True) has a shorter alias numba.njit.\n",
    "\n",
    "# In the previous example, we could have written:\n",
    "\n",
    "\n",
    "from numba import float64, njit\n",
    "\n",
    "@njit(float64(float64[:], float64[:]))\n",
    "def mean_distance(x, y):\n",
    "    return (x - y).mean()"
   ]
  },
  {
   "cell_type": "code",
   "execution_count": null,
   "metadata": {},
   "outputs": [],
   "source": [
    "# I encourage you to learn more by reading the online documentation for Numba."
   ]
  },
  {
   "cell_type": "code",
   "execution_count": 225,
   "metadata": {},
   "outputs": [],
   "source": [
    "# Creating Custom numpy.ufunc Objects with Numba\n",
    "\n",
    "\n",
    "# The numba.vectorize function creates compiled NumPy ufuncs, which behave like built-in ufuncs.\n",
    "    # Let’s consider a Python implementation of numpy.add:\n",
    "\n",
    "    \n",
    "from numba import vectorize\n",
    "\n",
    "@vectorize\n",
    "def nb_add(x, y):\n",
    "    return x + y"
   ]
  },
  {
   "cell_type": "code",
   "execution_count": 226,
   "metadata": {},
   "outputs": [
    {
     "data": {
      "text/plain": [
       "array([0, 1, 2, 3, 4, 5, 6, 7, 8, 9])"
      ]
     },
     "execution_count": 226,
     "metadata": {},
     "output_type": "execute_result"
    }
   ],
   "source": [
    "# Now we have:\n",
    "\n",
    "\n",
    "x = np.arange(10)\n",
    "\n",
    "x "
   ]
  },
  {
   "cell_type": "code",
   "execution_count": 227,
   "metadata": {},
   "outputs": [
    {
     "data": {
      "text/plain": [
       "array([ 0,  2,  4,  6,  8, 10, 12, 14, 16, 18], dtype=int64)"
      ]
     },
     "execution_count": 227,
     "metadata": {},
     "output_type": "execute_result"
    }
   ],
   "source": [
    "nb_add(x, x)"
   ]
  },
  {
   "cell_type": "code",
   "execution_count": 228,
   "metadata": {
    "collapsed": true,
    "jupyter": {
     "outputs_hidden": true
    }
   },
   "outputs": [
    {
     "ename": "ValueError",
     "evalue": "could not find a matching type for nb_add.accumulate, requested type has type code 'l'",
     "output_type": "error",
     "traceback": [
      "\u001b[1;31m---------------------------------------------------------------------------\u001b[0m",
      "\u001b[1;31mValueError\u001b[0m                                Traceback (most recent call last)",
      "\u001b[1;32m<ipython-input-228-e53ce9bd412f>\u001b[0m in \u001b[0;36m<module>\u001b[1;34m\u001b[0m\n\u001b[1;32m----> 1\u001b[1;33m \u001b[0mnb_add\u001b[0m\u001b[1;33m.\u001b[0m\u001b[0maccumulate\u001b[0m\u001b[1;33m(\u001b[0m\u001b[0mx\u001b[0m\u001b[1;33m,\u001b[0m \u001b[1;36m0\u001b[0m\u001b[1;33m)\u001b[0m\u001b[1;33m\u001b[0m\u001b[1;33m\u001b[0m\u001b[0m\n\u001b[0m",
      "\u001b[1;31mValueError\u001b[0m: could not find a matching type for nb_add.accumulate, requested type has type code 'l'"
     ]
    }
   ],
   "source": [
    "nb_add.accumulate(x, 0)"
   ]
  },
  {
   "cell_type": "code",
   "execution_count": null,
   "metadata": {},
   "outputs": [],
   "source": [
    "# Advanced Array Input and Output\n",
    "\n",
    "# Ordinarily in numpy, np.save and np.load are for storing arrays in binary format on disk.\n",
    "    # There are a number of additional options to consider for more sophisticated use.\n",
    "    # In particular, memory maps have the additional benefit of enabling you to work with datasets \n",
    "    # that do not fit into RAM."
   ]
  },
  {
   "cell_type": "code",
   "execution_count": 229,
   "metadata": {},
   "outputs": [
    {
     "data": {
      "text/plain": [
       "memmap([[0., 0., 0., ..., 0., 0., 0.],\n",
       "        [0., 0., 0., ..., 0., 0., 0.],\n",
       "        [0., 0., 0., ..., 0., 0., 0.],\n",
       "        ...,\n",
       "        [0., 0., 0., ..., 0., 0., 0.],\n",
       "        [0., 0., 0., ..., 0., 0., 0.],\n",
       "        [0., 0., 0., ..., 0., 0., 0.]])"
      ]
     },
     "execution_count": 229,
     "metadata": {},
     "output_type": "execute_result"
    }
   ],
   "source": [
    "# Memory-Mapped Files\n",
    "\n",
    "# A memory-mapped file is a method for interacting with binary data on disk as though it is stored \n",
    "    # in an in-memory array. \n",
    "    # NumPy implements a memmap object that is ndarray-like, enabling small segments of a large file to be read\n",
    "    # and written without reading the whole array into memory.\n",
    "    # Additionally, a memmap has the same methods as an in-memory array and thus can be substituted \n",
    "    # into many algorithms where an ndarray would be expected.\n",
    "    \n",
    "# To create a new memory map, use the function np.memmap and pass a file path, dtype,shape, and file mode:\n",
    "\n",
    "\n",
    "mmap = np.memmap('mymmap', dtype='float64', mode='w+', shape=(10000, 10000))\n",
    "\n",
    "mmap"
   ]
  },
  {
   "cell_type": "code",
   "execution_count": 230,
   "metadata": {},
   "outputs": [
    {
     "data": {
      "text/plain": [
       "memmap([[0., 0., 0., ..., 0., 0., 0.],\n",
       "        [0., 0., 0., ..., 0., 0., 0.],\n",
       "        [0., 0., 0., ..., 0., 0., 0.],\n",
       "        [0., 0., 0., ..., 0., 0., 0.],\n",
       "        [0., 0., 0., ..., 0., 0., 0.]])"
      ]
     },
     "execution_count": 230,
     "metadata": {},
     "output_type": "execute_result"
    }
   ],
   "source": [
    "# Slicing a memmap returns views on the data on disk:\n",
    "\n",
    "\n",
    "section = mmap[:5]\n",
    "\n",
    "section"
   ]
  },
  {
   "cell_type": "code",
   "execution_count": 232,
   "metadata": {},
   "outputs": [
    {
     "data": {
      "text/plain": [
       "memmap([[ 0.56711132, -0.12717231,  0.52758445, ..., -0.51964959,\n",
       "         -0.55576608, -0.62599963],\n",
       "        [-0.60118962, -0.2320138 ,  1.78400269, ...,  0.5460359 ,\n",
       "         -0.81396878, -0.46026551],\n",
       "        [ 0.14608177, -1.1583803 , -1.28189275, ...,  0.53420363,\n",
       "          0.09238763, -1.28271782],\n",
       "        [-1.5121209 ,  0.9521015 , -0.87179321, ..., -1.28613331,\n",
       "          0.01396661, -0.4403933 ],\n",
       "        [-0.80654508,  2.11578824, -2.0804114 , ...,  1.12830642,\n",
       "         -1.14187654,  0.13829511]])"
      ]
     },
     "execution_count": 232,
     "metadata": {},
     "output_type": "execute_result"
    }
   ],
   "source": [
    "# If you assign data to these, it will be buffered in memory (like a Python file object),\n",
    "    # but you can write it to disk by calling flush:\n",
    "\n",
    "section[:] = np.random.randn(5, 10000)\n",
    "\n",
    "section"
   ]
  },
  {
   "cell_type": "code",
   "execution_count": 233,
   "metadata": {},
   "outputs": [],
   "source": [
    "mmap.flush()      # writing it to disk"
   ]
  },
  {
   "cell_type": "code",
   "execution_count": 234,
   "metadata": {},
   "outputs": [
    {
     "data": {
      "text/plain": [
       "memmap([[ 0.56711132, -0.12717231,  0.52758445, ..., -0.51964959,\n",
       "         -0.55576608, -0.62599963],\n",
       "        [-0.60118962, -0.2320138 ,  1.78400269, ...,  0.5460359 ,\n",
       "         -0.81396878, -0.46026551],\n",
       "        [ 0.14608177, -1.1583803 , -1.28189275, ...,  0.53420363,\n",
       "          0.09238763, -1.28271782],\n",
       "        ...,\n",
       "        [ 0.        ,  0.        ,  0.        , ...,  0.        ,\n",
       "          0.        ,  0.        ],\n",
       "        [ 0.        ,  0.        ,  0.        , ...,  0.        ,\n",
       "          0.        ,  0.        ],\n",
       "        [ 0.        ,  0.        ,  0.        , ...,  0.        ,\n",
       "          0.        ,  0.        ]])"
      ]
     },
     "execution_count": 234,
     "metadata": {},
     "output_type": "execute_result"
    }
   ],
   "source": [
    "mmap"
   ]
  },
  {
   "cell_type": "code",
   "execution_count": 235,
   "metadata": {},
   "outputs": [],
   "source": [
    "del mmap"
   ]
  },
  {
   "cell_type": "code",
   "execution_count": 236,
   "metadata": {},
   "outputs": [
    {
     "data": {
      "text/plain": [
       "memmap([[ 0.56711132, -0.12717231,  0.52758445, ..., -0.51964959,\n",
       "         -0.55576608, -0.62599963],\n",
       "        [-0.60118962, -0.2320138 ,  1.78400269, ...,  0.5460359 ,\n",
       "         -0.81396878, -0.46026551],\n",
       "        [ 0.14608177, -1.1583803 , -1.28189275, ...,  0.53420363,\n",
       "          0.09238763, -1.28271782],\n",
       "        ...,\n",
       "        [ 0.        ,  0.        ,  0.        , ...,  0.        ,\n",
       "          0.        ,  0.        ],\n",
       "        [ 0.        ,  0.        ,  0.        , ...,  0.        ,\n",
       "          0.        ,  0.        ],\n",
       "        [ 0.        ,  0.        ,  0.        , ...,  0.        ,\n",
       "          0.        ,  0.        ]])"
      ]
     },
     "execution_count": 236,
     "metadata": {},
     "output_type": "execute_result"
    }
   ],
   "source": [
    "# Whenever a memory map falls out of scope and is garbage-collected, \n",
    "    # any changes will be flushed to disk also. \n",
    "    # When opening an existing memory map, you still have to specify the dtype and shape, \n",
    "    # as the file is only a block of binary data with no metadata on disk:\n",
    "    \n",
    "\n",
    "mmap = np.memmap('mymmap', dtype='float64', shape=(10000, 10000))\n",
    "\n",
    "mmap"
   ]
  },
  {
   "cell_type": "code",
   "execution_count": null,
   "metadata": {},
   "outputs": [],
   "source": [
    "# Memory maps also work with structured or nested dtypes as described in a previously"
   ]
  },
  {
   "cell_type": "code",
   "execution_count": null,
   "metadata": {},
   "outputs": [],
   "source": [
    "# Performance Tips\n",
    "\n",
    "# Getting good performance out of code utilizing NumPy is often straightforward,\n",
    "    # as array operations typically replace otherwise comparatively extremely slow pure Python loops.\n",
    "    # The following list briefly summarizes some things to keep in mind:\n",
    "\n",
    "#        • Convert Python loops and conditional logic to array operations and boolean array operations\n",
    "#        • Use broadcasting whenever possible\n",
    "#        • Use arrays views (slicing) to avoid copying data\n",
    "#        • Utilize ufuncs and ufunc methods\n",
    "\n",
    "# If you can’t get the performance you require after exhausting the capabilities provided by NumPy alone, \n",
    "    # consider writing code in C, Fortran, or Cython."
   ]
  },
  {
   "cell_type": "code",
   "execution_count": 237,
   "metadata": {},
   "outputs": [
    {
     "data": {
      "text/plain": [
       "array([[1., 1., 1., ..., 1., 1., 1.],\n",
       "       [1., 1., 1., ..., 1., 1., 1.],\n",
       "       [1., 1., 1., ..., 1., 1., 1.],\n",
       "       ...,\n",
       "       [1., 1., 1., ..., 1., 1., 1.],\n",
       "       [1., 1., 1., ..., 1., 1., 1.],\n",
       "       [1., 1., 1., ..., 1., 1., 1.]])"
      ]
     },
     "execution_count": 237,
     "metadata": {},
     "output_type": "execute_result"
    }
   ],
   "source": [
    "# The Importance of Contiguous Memory\n",
    "\n",
    "# In some applications the memory layout of an array can significantly affect the speed of computations.\n",
    "    # This is based partly on performance differences having to do with the cache hierarchy of the CPU;\n",
    "    # operations accessing contiguous blocks of memory (e.g., summing the rows of a C order array)\n",
    "    # will generally be the fastest because the memory subsystem will buffer the appropriate blocks of memory\n",
    "    # into the ultrafast L1 or L2 CPU cache. \n",
    "    # Also, certain code paths inside NumPy’s C codebase have been optimized for the contiguous case \n",
    "    # in which generic strided memory access can be avoided.\n",
    "    \n",
    "# To say that an array’s memory layout is contiguous means that the elements are stored in memory in the order\n",
    "    # that they appear in the array with respect to Fortran (columnmajor) or C (row major) ordering.\n",
    "    # By default, NumPy arrays are created as Ccontiguous or just simply contiguous.\n",
    "    # A column major array, such as the transpose of a C-contiguous array, \n",
    "    # is thus said to be Fortran-contiguous.\n",
    "    # These properties can be explicitly checked via the flags attribute on the ndarray:\n",
    "    \n",
    "    \n",
    "arr_c = np.ones((1000, 1000), order='C')\n",
    "\n",
    "arr_c"
   ]
  },
  {
   "cell_type": "code",
   "execution_count": 238,
   "metadata": {},
   "outputs": [
    {
     "data": {
      "text/plain": [
       "array([[1., 1., 1., ..., 1., 1., 1.],\n",
       "       [1., 1., 1., ..., 1., 1., 1.],\n",
       "       [1., 1., 1., ..., 1., 1., 1.],\n",
       "       ...,\n",
       "       [1., 1., 1., ..., 1., 1., 1.],\n",
       "       [1., 1., 1., ..., 1., 1., 1.],\n",
       "       [1., 1., 1., ..., 1., 1., 1.]])"
      ]
     },
     "execution_count": 238,
     "metadata": {},
     "output_type": "execute_result"
    }
   ],
   "source": [
    "arr_f = np.ones((1000, 1000), order='F')\n",
    "\n",
    "arr_f"
   ]
  },
  {
   "cell_type": "code",
   "execution_count": 239,
   "metadata": {},
   "outputs": [
    {
     "data": {
      "text/plain": [
       "  C_CONTIGUOUS : True\n",
       "  F_CONTIGUOUS : False\n",
       "  OWNDATA : True\n",
       "  WRITEABLE : True\n",
       "  ALIGNED : True\n",
       "  WRITEBACKIFCOPY : False\n",
       "  UPDATEIFCOPY : False"
      ]
     },
     "execution_count": 239,
     "metadata": {},
     "output_type": "execute_result"
    }
   ],
   "source": [
    "arr_c.flags"
   ]
  },
  {
   "cell_type": "code",
   "execution_count": 240,
   "metadata": {},
   "outputs": [
    {
     "data": {
      "text/plain": [
       "  C_CONTIGUOUS : False\n",
       "  F_CONTIGUOUS : True\n",
       "  OWNDATA : True\n",
       "  WRITEABLE : True\n",
       "  ALIGNED : True\n",
       "  WRITEBACKIFCOPY : False\n",
       "  UPDATEIFCOPY : False"
      ]
     },
     "execution_count": 240,
     "metadata": {},
     "output_type": "execute_result"
    }
   ],
   "source": [
    "arr_f.flags"
   ]
  },
  {
   "cell_type": "code",
   "execution_count": 242,
   "metadata": {},
   "outputs": [
    {
     "data": {
      "text/plain": [
       "True"
      ]
     },
     "execution_count": 242,
     "metadata": {},
     "output_type": "execute_result"
    }
   ],
   "source": [
    "arr_c.flags.c_contiguous"
   ]
  },
  {
   "cell_type": "code",
   "execution_count": 243,
   "metadata": {},
   "outputs": [
    {
     "data": {
      "text/plain": [
       "False"
      ]
     },
     "execution_count": 243,
     "metadata": {},
     "output_type": "execute_result"
    }
   ],
   "source": [
    "arr_c.flags.f_contiguous"
   ]
  },
  {
   "cell_type": "code",
   "execution_count": 244,
   "metadata": {},
   "outputs": [
    {
     "data": {
      "text/plain": [
       "False"
      ]
     },
     "execution_count": 244,
     "metadata": {},
     "output_type": "execute_result"
    }
   ],
   "source": [
    "arr_f.flags.c_contiguous"
   ]
  },
  {
   "cell_type": "code",
   "execution_count": 245,
   "metadata": {},
   "outputs": [
    {
     "data": {
      "text/plain": [
       "True"
      ]
     },
     "execution_count": 245,
     "metadata": {},
     "output_type": "execute_result"
    }
   ],
   "source": [
    "arr_f.flags.f_contiguous"
   ]
  },
  {
   "cell_type": "code",
   "execution_count": 250,
   "metadata": {},
   "outputs": [
    {
     "name": "stdout",
     "output_type": "stream",
     "text": [
      "5.77 ms ± 782 µs per loop (mean ± std. dev. of 7 runs, 100 loops each)\n"
     ]
    }
   ],
   "source": [
    "# In this example, summing the rows of these arrays should, in theory, be faster for arr_c than arr_f \n",
    "    # since the rows are contiguous in memory.\n",
    "    \n",
    "# Here I check for sure using %timeit:\n",
    "\n",
    "\n",
    "%timeit arr_c.sum(1)"
   ]
  },
  {
   "cell_type": "code",
   "execution_count": 251,
   "metadata": {},
   "outputs": [
    {
     "name": "stdout",
     "output_type": "stream",
     "text": [
      "2.54 ms ± 944 µs per loop (mean ± std. dev. of 7 runs, 100 loops each)\n"
     ]
    }
   ],
   "source": [
    "%timeit arr_f.sum(1)"
   ]
  },
  {
   "cell_type": "code",
   "execution_count": 252,
   "metadata": {},
   "outputs": [
    {
     "data": {
      "text/plain": [
       "  C_CONTIGUOUS : True\n",
       "  F_CONTIGUOUS : False\n",
       "  OWNDATA : True\n",
       "  WRITEABLE : True\n",
       "  ALIGNED : True\n",
       "  WRITEBACKIFCOPY : False\n",
       "  UPDATEIFCOPY : False"
      ]
     },
     "execution_count": 252,
     "metadata": {},
     "output_type": "execute_result"
    }
   ],
   "source": [
    "# When you’re looking to squeeze more performance out of NumPy, this is often a place to invest some effort.\n",
    "    # If you have an array that does not have the desired memory order, \n",
    "    # you can use copy and pass either 'C' or 'F':\n",
    "\n",
    "arr_f.copy('C').flags"
   ]
  },
  {
   "cell_type": "code",
   "execution_count": 253,
   "metadata": {},
   "outputs": [
    {
     "data": {
      "text/plain": [
       "  C_CONTIGUOUS : False\n",
       "  F_CONTIGUOUS : True\n",
       "  OWNDATA : True\n",
       "  WRITEABLE : True\n",
       "  ALIGNED : True\n",
       "  WRITEBACKIFCOPY : False\n",
       "  UPDATEIFCOPY : False"
      ]
     },
     "execution_count": 253,
     "metadata": {},
     "output_type": "execute_result"
    }
   ],
   "source": [
    "arr_f.copy('F').flags"
   ]
  },
  {
   "cell_type": "code",
   "execution_count": 254,
   "metadata": {},
   "outputs": [
    {
     "data": {
      "text/plain": [
       "  C_CONTIGUOUS : False\n",
       "  F_CONTIGUOUS : True\n",
       "  OWNDATA : True\n",
       "  WRITEABLE : True\n",
       "  ALIGNED : True\n",
       "  WRITEBACKIFCOPY : False\n",
       "  UPDATEIFCOPY : False"
      ]
     },
     "execution_count": 254,
     "metadata": {},
     "output_type": "execute_result"
    }
   ],
   "source": [
    "arr_c.copy('F').flags"
   ]
  },
  {
   "cell_type": "code",
   "execution_count": 255,
   "metadata": {},
   "outputs": [
    {
     "data": {
      "text/plain": [
       "  C_CONTIGUOUS : True\n",
       "  F_CONTIGUOUS : False\n",
       "  OWNDATA : True\n",
       "  WRITEABLE : True\n",
       "  ALIGNED : True\n",
       "  WRITEBACKIFCOPY : False\n",
       "  UPDATEIFCOPY : False"
      ]
     },
     "execution_count": 255,
     "metadata": {},
     "output_type": "execute_result"
    }
   ],
   "source": [
    "arr_c.copy('C').flags"
   ]
  },
  {
   "cell_type": "code",
   "execution_count": 256,
   "metadata": {},
   "outputs": [
    {
     "data": {
      "text/plain": [
       "True"
      ]
     },
     "execution_count": 256,
     "metadata": {},
     "output_type": "execute_result"
    }
   ],
   "source": [
    "# When constructing a view on an array, keep in mind that the result is not guaranteed to be contiguous:\n",
    "\n",
    "arr_c[:50].flags.contiguous"
   ]
  },
  {
   "cell_type": "code",
   "execution_count": 257,
   "metadata": {},
   "outputs": [
    {
     "data": {
      "text/plain": [
       "  C_CONTIGUOUS : False\n",
       "  F_CONTIGUOUS : False\n",
       "  OWNDATA : False\n",
       "  WRITEABLE : True\n",
       "  ALIGNED : True\n",
       "  WRITEBACKIFCOPY : False\n",
       "  UPDATEIFCOPY : False"
      ]
     },
     "execution_count": 257,
     "metadata": {},
     "output_type": "execute_result"
    }
   ],
   "source": [
    "arr_c[:, :50].flags"
   ]
  },
  {
   "cell_type": "markdown",
   "metadata": {},
   "source": [
    "## The End"
   ]
  }
 ],
 "metadata": {
  "kernelspec": {
   "display_name": "Python 3",
   "language": "python",
   "name": "python3"
  },
  "language_info": {
   "codemirror_mode": {
    "name": "ipython",
    "version": 3
   },
   "file_extension": ".py",
   "mimetype": "text/x-python",
   "name": "python",
   "nbconvert_exporter": "python",
   "pygments_lexer": "ipython3",
   "version": "3.7.6"
  }
 },
 "nbformat": 4,
 "nbformat_minor": 4
}
